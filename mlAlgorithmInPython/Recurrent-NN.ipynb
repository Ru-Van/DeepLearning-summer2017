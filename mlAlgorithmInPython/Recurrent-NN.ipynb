{
 "cells": [
  {
   "cell_type": "markdown",
   "metadata": {},
   "source": [
    "# Recurrent Neural Network\n",
    "\n",
    "1. Resources:\n",
    "    - [Professor Geoffrey Hinton UBC Lecture](https://www.youtube.com/playlist?list=PLoRl3Ht4JOcdU872GhiYWf6jwrk_SNhz9)\n",
    "    - [Professor Fei-fei Li's Stanford Lecture 10](https://www.youtube.com/watch?v=yCC09vCHzF8)\n",
    "    - [Lex Fridman MIT Course](https://www.youtube.com/watch?v=nFTQ7kHQWtc)\n",
    "    - [Stanford Professor Manning and Socher NLP Lecture](https://www.youtube.com/watch?v=Keqep_PKrY8)"
   ]
  },
  {
   "cell_type": "code",
   "execution_count": null,
   "metadata": {
    "collapsed": true
   },
   "outputs": [],
   "source": []
  }
 ],
 "metadata": {
  "kernelspec": {
   "display_name": "Python 3",
   "language": "python",
   "name": "python3"
  },
  "language_info": {
   "codemirror_mode": {
    "name": "ipython",
    "version": 3
   },
   "file_extension": ".py",
   "mimetype": "text/x-python",
   "name": "python",
   "nbconvert_exporter": "python",
   "pygments_lexer": "ipython3",
   "version": "3.5.2"
  }
 },
 "nbformat": 4,
 "nbformat_minor": 2
}
