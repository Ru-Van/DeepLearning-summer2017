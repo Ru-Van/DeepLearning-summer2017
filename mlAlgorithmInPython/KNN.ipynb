{
 "cells": [
  {
   "cell_type": "markdown",
   "metadata": {},
   "source": [
    "# K Nearest Neighbor \n",
    "\n",
    "1. Resources\n",
    "    - [MIT AI course, Intro to Learning, Neighbors](https://www.youtube.com/watch?v=09mb78oiPkA)\n",
    "    - [YouTube How KNN algorithm works](https://www.youtube.com/watch?v=UqYde-LULfs)"
   ]
  },
  {
   "cell_type": "code",
   "execution_count": null,
   "metadata": {
    "collapsed": true
   },
   "outputs": [],
   "source": []
  }
 ],
 "metadata": {
  "kernelspec": {
   "display_name": "Python 3",
   "language": "python",
   "name": "python3"
  },
  "language_info": {
   "codemirror_mode": {
    "name": "ipython",
    "version": 3
   },
   "file_extension": ".py",
   "mimetype": "text/x-python",
   "name": "python",
   "nbconvert_exporter": "python",
   "pygments_lexer": "ipython3",
   "version": "3.5.2"
  }
 },
 "nbformat": 4,
 "nbformat_minor": 2
}
