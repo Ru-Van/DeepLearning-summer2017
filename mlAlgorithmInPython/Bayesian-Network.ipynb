{
 "cells": [
  {
   "cell_type": "markdown",
   "metadata": {},
   "source": [
    "# Bayesian Network \n",
    "\n",
    "1. Resources:\n",
    "    - [CS188 UC Berkeley AI Course](http://ai.berkeley.edu/lecture_videos.html)\n",
    "    - [UBC Bayes Net](https://www.youtube.com/watch?v=KJMJl1SWLIo)"
   ]
  },
  {
   "cell_type": "code",
   "execution_count": null,
   "metadata": {
    "collapsed": true
   },
   "outputs": [],
   "source": []
  }
 ],
 "metadata": {
  "kernelspec": {
   "display_name": "Python 3",
   "language": "python",
   "name": "python3"
  },
  "language_info": {
   "codemirror_mode": {
    "name": "ipython",
    "version": 3
   },
   "file_extension": ".py",
   "mimetype": "text/x-python",
   "name": "python",
   "nbconvert_exporter": "python",
   "pygments_lexer": "ipython3",
   "version": "3.5.2"
  }
 },
 "nbformat": 4,
 "nbformat_minor": 2
}
