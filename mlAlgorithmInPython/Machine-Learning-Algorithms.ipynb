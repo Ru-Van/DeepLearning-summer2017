{
 "cells": [
  {
   "cell_type": "markdown",
   "metadata": {},
   "source": [
    "# Machine Learning \n",
    "\n",
    "\n",
    "## 1. Supervised Learning \n",
    "  \n",
    "   1. Definition:  feed in training data / examples. Each example is a pair consisting of an input object (typically a vector) and a desired output value.\n",
    "    \n",
    "   2.  **Algorithms**\n",
    "        1. [Linear-Regression](Linear-Regression.ipynb) (ex: predict housing prices)\n",
    "        2. [Logistic Regression](LogReg.ipynb) /(ex: image classification)\n",
    "        3. [Decision Tree](Decision-Tree.ipynb)\n",
    "        4. [Random Forest](Random-Forest.ipynb)\n",
    "        5. Neural Networks\n",
    "            1. Multi-layer neural networks / deep neural networks / deep learning\n",
    "            2. [Convolutional Neural Network](Convolutional-NN.ipynb)\n",
    "            3. [Recurrent Neural Network](Recurrent-NN.ipynb)\n",
    "        6. [K-Nearest Neighbors](KNN.ipynb)\n",
    "        7. [Naive Bayes](Naive-Bayes.ipynb) \n",
    "        8. [Bayesian Networks](Bayesian-Network.ipynb)\n",
    "        9. SVD/PCA/Kernel PCA \n",
    "        10. [Support Vector Machine / Large Margin Classifier](SVM.ipynb)\n",
    "               - linear kernel\n",
    "               - Gaussian Kernel\n",
    "               - Polynomial Kernel\n",
    "        \n",
    "   3. Machine Learning Suggestions\n",
    "   4. Applications\n",
    "    \n",
    "## 2. Unsupervised Learning: \n",
    "   1. Definition: train the machine learning task only with a set of inputs, and let it find the structure or relationships between different inputs.\n",
    "   2. Algorithms:\n",
    "       - [K-means / Clustering](K-means.ipynb)\n",
    "       - Generative Adversarial Networks: \n",
    "           - implemented by a system of two neural networks contesting with each other in a zero sum game framework. \n",
    "           - one network generates candidates and one evaluates them.\n",
    "   3. Optimizations\n",
    "   4. Applications\n",
    "\n",
    "    \n",
    "## 3. Reinforcement Learning \n",
    "\n",
    "    \n"
   ]
  },
  {
   "cell_type": "markdown",
   "metadata": {
    "collapsed": true
   },
   "source": [
    "<font color = \"blue\"> \n",
    "## Alternative Classification Techniques by [Oracle](http://www.oracle.com/technetwork/database/enterprise-edition/odm-techniques-algorithms-097163.html): </font>\n",
    "** 1. Classification **\n",
    "   - Generalized Linear Models Logistic Regressions (discrete)\n",
    "   - Naive Bayes\n",
    "   - Support Vector Machine\n",
    "   - Decision Tree\n",
    "    \n",
    "** 2. Regression **\n",
    "   - Generalized Linear Models Multiple Regression (continuous)\n",
    "   - Support Vector Machines\n",
    "    \n",
    "** 3. Attribute Importance: **ranks attributes according to strength of relationship with target attribute. Use cases include finding factors most associated with customers who respond to an offer, factors most associated with healthy patients. \n",
    "   - Minimum Discription Length\n",
    "    \n",
    "** 4. Anomaly Detection **\n",
    "   - One class support vector Machine\n",
    "    \n",
    "** 5. Clustering**\n",
    "   - Enhanced k-means\n",
    "   - orthogonal partitioning clustering\n",
    "   - expectation maximization\n",
    "    \n",
    "** 6. Association:** find rules associated with frequently co-occuring items, usef for market baskset analysis, cross sell, root cause analysis. Useful for product bunding, in-store placement, and detect analysis.\n",
    "   - Apriori\n",
    "    \n",
    "** 7. Feature selection and extraction: **produce new attributesas linear combination of existing attributes. Applicable for text data, latent semantic analysis, data compression, data-decomposition and projection, and pattern recognition.\n",
    "   - Non-negative matrix factorization\n",
    "   - Principal Component Analysis (PCA)\n",
    "   - Singular Vector Decomposition"
   ]
  },
  {
   "cell_type": "code",
   "execution_count": 1,
   "metadata": {
    "collapsed": true
   },
   "outputs": [],
   "source": []
  },
  {
   "cell_type": "markdown",
   "metadata": {},
   "source": []
  },
  {
   "cell_type": "markdown",
   "metadata": {},
   "source": []
  },
  {
   "cell_type": "code",
   "execution_count": null,
   "metadata": {
    "collapsed": true
   },
   "outputs": [],
   "source": []
  }
 ],
 "metadata": {
  "kernelspec": {
   "display_name": "Python 3",
   "language": "python",
   "name": "python3"
  },
  "language_info": {
   "codemirror_mode": {
    "name": "ipython",
    "version": 3
   },
   "file_extension": ".py",
   "mimetype": "text/x-python",
   "name": "python",
   "nbconvert_exporter": "python",
   "pygments_lexer": "ipython3",
   "version": "3.5.2"
  }
 },
 "nbformat": 4,
 "nbformat_minor": 2
}
