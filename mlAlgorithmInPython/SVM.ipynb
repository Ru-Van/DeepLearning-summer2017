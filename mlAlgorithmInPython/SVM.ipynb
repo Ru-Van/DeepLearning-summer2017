{
 "cells": [
  {
   "cell_type": "markdown",
   "metadata": {},
   "source": [
    "# Support Vector Machines\n",
    "\n",
    "1. Resources:\n",
    "    - [Andrew Ng's Coursera](https://www.youtube.com/watch?v=r3uBEDCqIN0&index=71&list=PLZ9qNFMHZ-A4rycgrgOYma6zxF4BZGGPW)\n",
    "    - [MIT AI Course](https://www.youtube.com/watch?v=_PwhiWxHK8o&t=1094s)"
   ]
  },
  {
   "cell_type": "code",
   "execution_count": null,
   "metadata": {
    "collapsed": true
   },
   "outputs": [],
   "source": [
    "### Support Vector Machines\n",
    "\n",
    "- a powerful way to learn non-linear function\n",
    "- \n"
   ]
  }
 ],
 "metadata": {
  "kernelspec": {
   "display_name": "Python 3",
   "language": "python",
   "name": "python3"
  },
  "language_info": {
   "codemirror_mode": {
    "name": "ipython",
    "version": 3
   },
   "file_extension": ".py",
   "mimetype": "text/x-python",
   "name": "python",
   "nbconvert_exporter": "python",
   "pygments_lexer": "ipython3",
   "version": "3.5.2"
  }
 },
 "nbformat": 4,
 "nbformat_minor": 2
}
