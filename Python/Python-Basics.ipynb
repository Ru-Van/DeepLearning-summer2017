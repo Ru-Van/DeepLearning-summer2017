{
 "cells": [
  {
   "cell_type": "code",
   "execution_count": 1,
   "metadata": {},
   "outputs": [
    {
     "name": "stdout",
     "output_type": "stream",
     "text": [
      "This condition is true\n",
      "This condition is true\n"
     ]
    }
   ],
   "source": [
    "condition = True\n",
    "while condition:\n",
    "    print(\"This condition is true\")\n",
    "    condition = False\n",
    "    \n",
    "# or alternatively\n",
    "while True:\n",
    "    print(\"This condition is true\")\n",
    "    break;"
   ]
  },
  {
   "cell_type": "code",
   "execution_count": 2,
   "metadata": {},
   "outputs": [
    {
     "name": "stdout",
     "output_type": "stream",
     "text": [
      "1 2 3 4 5 6 \n",
      "0 1 2 3 4 \n",
      "1 2 3 4 5 6 7 8 9 10 "
     ]
    }
   ],
   "source": [
    "list = [1,2,3,4,5,6]\n",
    "for x in list:\n",
    "    print(x, end = \" \") #this ensures that it will print on the same line\n",
    "print()\n",
    "for x in range(5): #starts at 0 and goes to 4\n",
    "    print(x, end = \" \")\n",
    "print()\n",
    "for x in range(1,11): # does not include 11\n",
    "    print(x, end = \" \")"
   ]
  },
  {
   "cell_type": "code",
   "execution_count": 3,
   "metadata": {},
   "outputs": [
    {
     "name": "stdout",
     "output_type": "stream",
     "text": [
      "x is less than 5, this is x = 4\n"
     ]
    }
   ],
   "source": [
    "# conditional statement\n",
    "from random import randint\n",
    "x = randint(0,10) # generate a random number between 0 and 10\n",
    "if x > 5:\n",
    "    print(\"x is greater than 5, this is x =\",x)\n",
    "elif x < 5:\n",
    "    print('x is less than 5, this is x =',x)\n",
    "else:\n",
    "    print('x is ' , x)"
   ]
  },
  {
   "cell_type": "markdown",
   "metadata": {},
   "source": [
    "## Python Operator:\n",
    "1. Logical Operators: (notice they don't use && || and ! for the logical operators)\n",
    "    - and\n",
    "    - or\n",
    "    - not\n",
    "2. Bitwise operators:\n",
    "    - &: And\n",
    "    - |: or\n",
    "    - ~: Not\n",
    "    - ^: XOR(exclusive or)\n",
    "    - \\>>: bitwise right shift\n",
    "    - <<: bitwise left shift\n",
    "3. Comparison Operators:\n",
    "    - \\>:greater than\n",
    "    - <:less than\n",
    "    - ==:equal to\n",
    "    - != not equal to\n",
    "    - \\>= greater than or equal to\n",
    "    - <= less than or equal to\n",
    "4. Arithmetic Operator:\n",
    "    - +,-,*\n",
    "    - /: interger ceiling division\n",
    "    - %: modulus\n",
    "    - //: floor division\n",
    "    - \\**: exponent\n",
    "5. Assignment Operator:\n",
    "    - +=, -=, \\*=, /=, %=, //=, \\**=\n",
    "    - &=, |=, ^=, >>=, <<=\n",
    "6. Special operators:\n",
    "    - is, is not\n",
    "    - Membership: in, not in\n"
   ]
  },
  {
   "cell_type": "code",
   "execution_count": 8,
   "metadata": {},
   "outputs": [
    {
     "name": "stdout",
     "output_type": "stream",
     "text": [
      "Aiden\n"
     ]
    }
   ],
   "source": [
    "# function\n",
    "def employeeInfo(name, display = 'True'):\n",
    "    if name != \" \" and display: #python does not use &, they use and, or, and not\n",
    "        print(name)\n",
    "\n",
    "employeeInfo(\"Aiden\")"
   ]
  },
  {
   "cell_type": "code",
   "execution_count": 21,
   "metadata": {},
   "outputs": [
    {
     "name": "stdout",
     "output_type": "stream",
     "text": [
      "0\n",
      "14\n",
      "-5\n",
      "14\n",
      "6\n",
      "2\n",
      "40\n"
     ]
    }
   ],
   "source": [
    "# bitwise operators:\n",
    "a = 10 # 0000 1010 in binary\n",
    "b = 4  # 0000 0100 in binary\n",
    "c = 12 # 0000 1100 in binary\n",
    "print(a & b) # 0000 0000\n",
    "print(a | b) # 0000 1110\n",
    "print(~b)    # 1111 1011\n",
    "print(a ^ b) # 0000 1110\n",
    "print(a ^ c) # 0000 0110\n",
    "print(a >> 2) # 0000 0010\n",
    "print(a << 2) # 0010 1000"
   ]
  },
  {
   "cell_type": "code",
   "execution_count": 22,
   "metadata": {},
   "outputs": [
    {
     "name": "stdout",
     "output_type": "stream",
     "text": [
      "True\n",
      "False\n"
     ]
    }
   ],
   "source": [
    "x =10\n",
    "y = 10\n",
    "z = 5\n",
    "print(x is y)\n",
    "print(x is z)"
   ]
  },
  {
   "cell_type": "code",
   "execution_count": 23,
   "metadata": {},
   "outputs": [
    {
     "name": "stdout",
     "output_type": "stream",
     "text": [
      "False\n",
      "True\n"
     ]
    }
   ],
   "source": [
    "a = [1,2,3,4,5]\n",
    "print(x in a)\n",
    "print(x not in a)"
   ]
  },
  {
   "cell_type": "markdown",
   "metadata": {},
   "source": [
    "### Reading and Writing files in Python"
   ]
  },
  {
   "cell_type": "code",
   "execution_count": 34,
   "metadata": {},
   "outputs": [
    {
     "name": "stdout",
     "output_type": "stream",
     "text": [
      "Aaron 1\n",
      "Bob 2\n",
      "Cindy 3\n",
      "David 4\n",
      "Emily 5\n",
      "\n",
      "Aaron 1\n",
      "Bob 2\n",
      "Cindy 3\n",
      "David 4\n",
      "Emily 5"
     ]
    }
   ],
   "source": [
    "readFile = open('example.txt', 'r').read()\n",
    "print(readFile)\n",
    "\n",
    "print()\n",
    "# Alternatively:\n",
    "readFile1 = open('example.txt','r').readlines()\n",
    "for file in readFile1:\n",
    "    print(file, end = \"\")\n",
    "    \n"
   ]
  },
  {
   "cell_type": "code",
   "execution_count": 42,
   "metadata": {},
   "outputs": [
    {
     "name": "stdout",
     "output_type": "stream",
     "text": [
      "Aaron 1\n",
      "Bob 2\n",
      "Cindy 3\n",
      "David 4\n",
      "Emily 5\n"
     ]
    }
   ],
   "source": [
    "#safer way\n",
    "with open('example.txt') as f:\n",
    "    readFile = f.read()\n",
    "    print(readFile)"
   ]
  },
  {
   "cell_type": "code",
   "execution_count": 45,
   "metadata": {},
   "outputs": [
    {
     "name": "stdout",
     "output_type": "stream",
     "text": [
      "Hello World\n"
     ]
    }
   ],
   "source": [
    "# writing file\n",
    "f = open('empty.txt','w')\n",
    "f.write('Hello World')"
   ]
  },
  {
   "cell_type": "markdown",
   "metadata": {},
   "source": [
    "## Python class"
   ]
  },
  {
   "cell_type": "code",
   "execution_count": 47,
   "metadata": {},
   "outputs": [
    {
     "name": "stdout",
     "output_type": "stream",
     "text": [
      "7\n",
      "1\n",
      "12\n",
      "2.0\n"
     ]
    }
   ],
   "source": [
    "class calculator:\n",
    "    def addition(x,y):\n",
    "        added = x + y;\n",
    "        print(added)\n",
    "    def subtraction(x,y):\n",
    "        print(x - y)\n",
    "    def multiplication(x,y):\n",
    "        print(x * y)\n",
    "    def division(x,y):\n",
    "        print(x / y)\n",
    "\n",
    "calculator.addition(3,4)\n",
    "calculator.subtraction(4,3)\n",
    "calculator.multiplication(3,4)\n",
    "calculator.division(4,2)"
   ]
  },
  {
   "cell_type": "code",
   "execution_count": 50,
   "metadata": {},
   "outputs": [
    {
     "name": "stdout",
     "output_type": "stream",
     "text": [
      "What is your name? cindy\n",
      "Hello cindy\n"
     ]
    }
   ],
   "source": [
    "# Getting user input\n",
    "x = input('What is your name? ')\n",
    "print('Hello',x)"
   ]
  },
  {
   "cell_type": "markdown",
   "metadata": {},
   "source": [
    "## Statistic Module"
   ]
  },
  {
   "cell_type": "code",
   "execution_count": 91,
   "metadata": {},
   "outputs": [
    {
     "name": "stdout",
     "output_type": "stream",
     "text": [
      "Mean of the list  51.21\n",
      "Median of the list 54.41\n",
      "No unique mode\n",
      "Standard Deviation of the list 27.61\n",
      "Variance of the list 762.45\n"
     ]
    },
    {
     "data": {
      "image/png": "[encoded data removed]",
      "text/plain": [
       "<matplotlib.figure.Figure at 0x7f3b003d3978>"
      ]
     },
     "metadata": {},
     "output_type": "display_data"
    }
   ],
   "source": [
    "import statistics as st\n",
    "import numpy as np\n",
    "import matplotlib.pyplot as plt\n",
    "x = np.random.rand(100) * 100\n",
    "print('Mean of the list ',round(st.mean(x),2))\n",
    "print('Median of the list', round(st.median(x),2))\n",
    "try:\n",
    "    print('Mode of the list', st.mode(x))\n",
    "except Exception:\n",
    "    print('No unique mode')\n",
    "print('Standard Deviation of the list', round(st.stdev(x),2))\n",
    "print('Variance of the list',round(st.variance(x),2))\n",
    "# binsize = [0,10,20,30,40,50,60,70,80,90,100]\n",
    "# plt.hist(x,binsize)\n",
    "# plt.show()\n",
    "\n",
    "import scipy.stats as stats\n",
    "import matplotlib.mlab as mlab\n",
    "x = sorted(x)\n",
    "fit = stats.norm.pdf(x, np.mean(x), np.std(x))\n",
    "plt.plot(x, fit, '-o')\n",
    "plt.hist(x, normed=True)\n",
    "plt.show()"
   ]
  },
  {
   "cell_type": "markdown",
   "metadata": {},
   "source": [
    "To graph a standard distribution\n",
    "1. **sort** your array / vector\n",
    "2. fit the model fit =  stats.norm.pdf(array,mean,stdev)\n",
    "3. use plt.plt(array, fit)\n",
    "4. plt.show()"
   ]
  },
  {
   "cell_type": "code",
   "execution_count": null,
   "metadata": {},
   "outputs": [],
   "source": []
  },
  {
   "cell_type": "code",
   "execution_count": null,
   "metadata": {
    "collapsed": true
   },
   "outputs": [],
   "source": []
  }
 ],
 "metadata": {
  "kernelspec": {
   "display_name": "Python 3",
   "language": "python",
   "name": "python3"
  },
  "language_info": {
   "codemirror_mode": {
    "name": "ipython",
    "version": 3
   },
   "file_extension": ".py",
   "mimetype": "text/x-python",
   "name": "python",
   "nbconvert_exporter": "python",
   "pygments_lexer": "ipython3",
   "version": "3.5.2"
  }
 },
 "nbformat": 4,
 "nbformat_minor": 2
}
