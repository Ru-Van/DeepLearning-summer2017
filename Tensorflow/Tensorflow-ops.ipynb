{
 "cells": [
  {
   "cell_type": "markdown",
   "metadata": {},
   "source": [
    "# Lecture 2 TensorFlow Ops\n",
    "\n",
    "- In Tensorflow, we collectively call *constants, variables, operators* as ** ops**.\n",
    "- Tensorflow includes:\n",
    "    1. TensorFlow\n",
    "    2. TensorBoard\n",
    "    3. TensorServing"
   ]
  },
  {
   "cell_type": "markdown",
   "metadata": {},
   "source": [
    "## 1. TensorBoard\n",
    "\n",
    "- a graph visualization software \n",
    "- When a user perform certain operation in a TensorBaord-activated Tensorflow program, these operations are exported to an event file.Tensorboard is able to convert these event files to graphs that can give insight into a model's behavior. "
   ]
  },
  {
   "cell_type": "code",
   "execution_count": 13,
   "metadata": {},
   "outputs": [
    {
     "name": "stdout",
     "output_type": "stream",
     "text": [
      "5\n"
     ]
    }
   ],
   "source": [
    "import tensorflow as tf\n",
    "a = tf.constant(2, name = 'a')\n",
    "b = tf.constant(3, name = 'b')\n",
    "x = tf.add(a,b)\n",
    "with tf.Session() as sess:\n",
    "    print(sess.run(x))"
   ]
  },
  {
   "cell_type": "markdown",
   "metadata": {},
   "source": [
    "- To activate TensorBoard on this program, add the following line after you've built your computation graph, just right before running the training loop.\n",
    "   \n",
    "   ***writer = tf.summary.FileWriter('./graphs',sess.graph)***\n",
    "   \n",
    "- the first argument is to create a writer object to write operations to the event file,stored in the folder './graphs'. if you don't yet have that folder, it would automatically create it."
   ]
  },
  {
   "cell_type": "code",
   "execution_count": 14,
   "metadata": {},
   "outputs": [
    {
     "name": "stdout",
     "output_type": "stream",
     "text": [
      "5\n"
     ]
    }
   ],
   "source": [
    "with tf.Session() as sess:\n",
    "    writer = tf.summary.FileWriter('./graphs',sess.graph)\n",
    "    print(sess.run(x))\n",
    "          \n",
    "# Remember to close the writer whenever you done using it.\n",
    "writer.close()"
   ]
  },
  {
   "cell_type": "markdown",
   "metadata": {},
   "source": [
    "- After running the above scipt, you would want to go to Terminal, make sure your present working directory is the same as your python code:\n",
    "\n",
    "```\n",
    "python nameOfTheProgram.py\n",
    "tensorboard --logdir='./graphs'\n",
    "```\n",
    "\n",
    "- Then open your browser and go to http://localhost:6006/, or the link you get back after running tensorboard command\n",
    "- the graph itself defines the ops and dependencies, but not displays the values. It only cares about the values when we run the session with some values to fetch in mind, for example:\n",
    "    <br>***tf.Session.run(fetches, feed_dict = None, options = None, run_metadata = None)***"
   ]
  },
  {
   "cell_type": "markdown",
   "metadata": {},
   "source": [
    "## 2. Constant Types\n",
    "\n",
    "1. You can create constants of scalars or tensor values\n",
    "2. syntax: *** tf.constant(value, dtype = None, shape = None, name = 'Const', verify_shape = False) ***\n",
    "3. You could also create tensors whose elements are of a specific value:\n",
    "    - ** tf.zeros(shape, dtype = tf.float32, name = None)**\n",
    "    - **tf.zeros_like(input_tensor, dtype = None, name = None, optimize = True)**\n",
    "    - **tf.ones(shape, dtype = tf.float32, name = None)**\n",
    "    - **tf.ones_like(input_tensor, dtype = None, name = None, optimize = True) **\n",
    "    - ** tf.fill(dims,value, name =None)**"
   ]
  },
  {
   "cell_type": "code",
   "execution_count": 17,
   "metadata": {
    "collapsed": true
   },
   "outputs": [],
   "source": [
    "# a constant of a 1d tensor, i.e. a vector\n",
    "a = tf.constant([2,2], name = 'vector')\n",
    "\n",
    "# a constant of a 2*2 tensor, i.e. a matrix\n",
    "b = tf.constant([[0,1],[2,3]], name = 'b')"
   ]
  },
  {
   "cell_type": "code",
   "execution_count": 21,
   "metadata": {},
   "outputs": [
    {
     "name": "stdout",
     "output_type": "stream",
     "text": [
      "[[0 0 0]\n",
      " [0 0 0]]\n"
     ]
    }
   ],
   "source": [
    "c = tf.zeros([2,3], tf.int32)\n",
    "with tf.Session() as sess:\n",
    "    print(sess.run(c))"
   ]
  },
  {
   "cell_type": "code",
   "execution_count": 23,
   "metadata": {},
   "outputs": [
    {
     "name": "stdout",
     "output_type": "stream",
     "text": [
      "[[0 0]\n",
      " [0 0]\n",
      " [0 0]]\n"
     ]
    }
   ],
   "source": [
    "# create  a tensor of shape and type (unless type is specified) as the input_tensor but all elements are zeros\n",
    "input_tensor = [[0,1],[2,3],[4,5]]\n",
    "d = tf.zeros_like(input_tensor)\n",
    "with tf.Session() as sess:\n",
    "    print(sess.run(d))"
   ]
  },
  {
   "cell_type": "code",
   "execution_count": 24,
   "metadata": {},
   "outputs": [
    {
     "data": {
      "text/plain": [
       "<tf.Tensor 'ones:0' shape=(2, 3) dtype=int32>"
      ]
     },
     "execution_count": 24,
     "metadata": {},
     "output_type": "execute_result"
    }
   ],
   "source": [
    "# create a tensor of shape and all elements are ones:\n",
    "tf.ones([2,3],tf.int32)"
   ]
  },
  {
   "cell_type": "code",
   "execution_count": 27,
   "metadata": {},
   "outputs": [
    {
     "name": "stdout",
     "output_type": "stream",
     "text": [
      "[[1 1]\n",
      " [1 1]\n",
      " [1 1]]\n"
     ]
    }
   ],
   "source": [
    "# tf.ones_like() is the same as tf.zeros_alike() except that this one are elements of ones:\n",
    "e = tf.ones_like(input_tensor)\n",
    "with tf.Session() as sess:\n",
    "    print(sess.run(e))"
   ]
  },
  {
   "cell_type": "code",
   "execution_count": 28,
   "metadata": {},
   "outputs": [
    {
     "name": "stdout",
     "output_type": "stream",
     "text": [
      "[[8 8 8]\n",
      " [8 8 8]]\n"
     ]
    }
   ],
   "source": [
    "#tf.fill() create a tensor filled with a scalar value\n",
    "f = tf.fill([2,3],8)\n",
    "with tf.Session() as sess:\n",
    "    print(sess.run(f))"
   ]
  },
  {
   "cell_type": "markdown",
   "metadata": {
    "collapsed": true
   },
   "source": [
    "You can also create constants that are sequences\n",
    "- **tf.linspace(start,stop,num,name = None)**\n",
    "    - this create a sequence of num evenly-spaced values that are generated beginning at start. If num > 1, the values in the sequence increase by stop - start / num -1; so that the last one is exactly stop.\n",
    "    - start, stop and num MUST be a scalar\n",
    "    - comparable but slightly different than numpy.linspace()\n",
    "- ** tf.range(start, limit = None, delta = 1, dtype = None, name = 'range')**\n",
    "    - create a sequence of numbers that begins at start and extends by increments of delta up to but not including limit. \n",
    "    \n",
    "- Unlike numpy and Python sequences, Tensorflow sequences are ** NOT ITERABLE **, so if you are trying to use a for loop to iterate through them, it would NOT work!"
   ]
  },
  {
   "cell_type": "code",
   "execution_count": 40,
   "metadata": {},
   "outputs": [
    {
     "name": "stdout",
     "output_type": "stream",
     "text": [
      "[ 10.  11.  12.  13.]\n"
     ]
    }
   ],
   "source": [
    "g = tf.linspace(10.0,13.0,4, name = 'linespace')\n",
    "with tf.Session() as sess:\n",
    "    print(sess.run(g))"
   ]
  },
  {
   "cell_type": "code",
   "execution_count": 41,
   "metadata": {},
   "outputs": [
    {
     "name": "stdout",
     "output_type": "stream",
     "text": [
      "[ 3  6  9 12 15]\n"
     ]
    }
   ],
   "source": [
    "h = tf.range(3,limit = 18,delta = 3)\n",
    "with tf.Session() as sess:\n",
    "    print(sess.run(h))"
   ]
  },
  {
   "cell_type": "code",
   "execution_count": 42,
   "metadata": {},
   "outputs": [
    {
     "name": "stdout",
     "output_type": "stream",
     "text": [
      "[ 3.   2.5  2.   1.5]\n"
     ]
    }
   ],
   "source": [
    "i = tf.range(3,1,-0.5)\n",
    "with tf.Session() as  sess:\n",
    "    print(sess.run(i))"
   ]
  },
  {
   "cell_type": "code",
   "execution_count": 43,
   "metadata": {},
   "outputs": [
    {
     "name": "stdout",
     "output_type": "stream",
     "text": [
      "[0 1 2 3 4]\n"
     ]
    }
   ],
   "source": [
    "j = tf.range(5) # this is similar to python's builtin range, that will iterate from 0 to n-1\n",
    "with tf.Session() as sess:\n",
    "    print(sess.run(j))"
   ]
  },
  {
   "cell_type": "markdown",
   "metadata": {},
   "source": [
    "### random constants\n",
    "- **tf.random_normal(shape, mean = 0.0, stddev = 1.0, dtype = tf.float32, seed = None, name = None)**\n",
    "    - Outputs random values from a normal distribution.\n",
    "- **tf.truncated_normal(shape, mean = 0.0, stddev = 1.0, dtype = tf.float32, seed = None, name = None)**\n",
    "- **tf.random_uniform(shape, minval = 0, maxval = None, dtype =tf.float32, seed = None, name = None)**\n",
    "- **tf.random_shuffle(value, seed = None, name= None)**\n",
    "    - randomly shuffle a tensor along its first dimension.\n",
    "- **tf.random_crop(value,size, seed = None, name = None)**\n",
    "    - randomly crops a tensor to a given size\n",
    "- **tf.multinomial(logits, num_samples, seed = None, name = None)**\n",
    "    - it draws samples from a multinomial distribution\n",
    "- **tf.random_gamma(shape,alpha, beta, dtype = tf.float32, seed = None, name = None) **"
   ]
  },
  {
   "cell_type": "code",
   "execution_count": 80,
   "metadata": {},
   "outputs": [
    {
     "name": "stdout",
     "output_type": "stream",
     "text": [
      "Normal Distribution\n",
      " [[ 22.91229057  21.07133293  18.27061844]\n",
      " [ 20.05288506  17.74287415  19.72896194]]\n",
      "Truncated Normal\n",
      " [[ 20.18136215  20.25928307  18.27256203]\n",
      " [ 18.71704102  17.43005371  21.04504013]]\n"
     ]
    }
   ],
   "source": [
    "# normal distribution:\n",
    "normal = tf.random_normal([2,3], mean = 20, stddev = 2)\n",
    "\n",
    "# truncated normal distribution\n",
    "tnormal = tf.truncated_normal([2,3], 20 ,2)\n",
    "with tf.Session() as sess:\n",
    "    print(\"Normal Distribution\\n\",sess.run(normal))\n",
    "    print(\"Truncated Normal\\n\",sess.run(tnormal))\n"
   ]
  },
  {
   "cell_type": "code",
   "execution_count": 81,
   "metadata": {},
   "outputs": [
    {
     "name": "stdout",
     "output_type": "stream",
     "text": [
      "No shuffle: [2 3 4 5 6]\n",
      "With shuffle: [4 5 6 2 3]\n",
      "No shuffle: \n",
      " [[2 3]\n",
      " [4 5]\n",
      " [7 9]]\n",
      "With shuffle:\n",
      " [[2 3]\n",
      " [7 9]\n",
      " [4 5]]\n"
     ]
    }
   ],
   "source": [
    "# random shuffle\n",
    "abc = tf.constant([2,3,4,5,6])\n",
    "shu = tf.random_shuffle(abc)\n",
    "with tf.Session() as sess:\n",
    "    print(\"No shuffle:\", sess.run(abc))\n",
    "    print(\"With shuffle:\",sess.run(shu))\n",
    "cde = tf.constant([[2,3],[4,5],[7,9]])\n",
    "cdeshu = tf.random_shuffle(cde)\n",
    "with tf.Session() as sess:\n",
    "    print(\"No shuffle: \\n\", sess.run(cde))\n",
    "    print(\"With shuffle:\\n\", sess.run(cdeshu))"
   ]
  },
  {
   "cell_type": "code",
   "execution_count": 82,
   "metadata": {},
   "outputs": [
    {
     "name": "stdout",
     "output_type": "stream",
     "text": [
      "Tensor(\"cropped_1:0\", shape=(3, 2), dtype=float32)\n"
     ]
    }
   ],
   "source": [
    "# random crop: randomly crops a tensor to a given size.\n",
    "# If a dimension should not be cropped, for example an image with RGB values, then you could do\n",
    "# size = [crop_height, crop_width, 3]\n",
    "a = tf.random_normal([7,3])\n",
    "# crop this to a 3 by 2 matrix\n",
    "b = tf.random_crop(a,[3,2] ,name = \"cropped\")\n",
    "print(b)"
   ]
  },
  {
   "cell_type": "code",
   "execution_count": 83,
   "metadata": {},
   "outputs": [
    {
     "name": "stdout",
     "output_type": "stream",
     "text": [
      "[[1 1 1 1 0]]\n"
     ]
    }
   ],
   "source": [
    "# multinomial: \n",
    "# samples has shape [1, 5], where each value is either 0 or 1 with equal\n",
    "# probability.\n",
    "samples = tf.multinomial(tf.log([[10., 10.]]), 5)\n",
    "with tf.Session() as sess:\n",
    "    print(sess.run(samples))"
   ]
  },
  {
   "cell_type": "markdown",
   "metadata": {},
   "source": [
    "## 3. [Math Operations](https://www.tensorflow.org/api_guides/python/math_ops):\n",
    "- prety stndard, similar to Numpy"
   ]
  },
  {
   "cell_type": "code",
   "execution_count": 104,
   "metadata": {},
   "outputs": [
    {
     "name": "stdout",
     "output_type": "stream",
     "text": [
      "a: \n",
      " [[3 6 4]\n",
      " [2 4 1]] \n",
      " b \n",
      " [[2 2 3]\n",
      " [1 2 4]]\n",
      "Added: \n",
      " [[5 8 7]\n",
      " [3 6 5]]\n",
      "Add n #s \n",
      " [[ 7 10 10]\n",
      " [ 4  8  9]]\n",
      "Element-wise mul\n",
      " [[ 6 12 12]\n",
      " [ 2  8  4]]\n",
      "Matrix mul \n",
      " [[30 31]\n",
      " [15 14]]\n",
      "Matrix div \n",
      " [[1 3 1]\n",
      " [2 2 0]] \n",
      " matrix modulus\n",
      " [[1 0 1]\n",
      " [0 0 1]]\n"
     ]
    }
   ],
   "source": [
    "a = tf.constant([[3,6,4],[2,4,1]])\n",
    "b = tf.constant([[2,2,3],[1,2,4]])\n",
    "added = tf.add(a,b)\n",
    "addN = tf.add_n([a,b,b]) # notice the brackets? \n",
    "mul = tf.multiply(a,b) # multiply is element wise\n",
    "matmultiply = tf.matmul(a,tf.transpose(b))\n",
    "divide = tf.div(a,b)\n",
    "modulus = tf.mod(a,b)\n",
    "\n",
    "with tf.Session() as sess:\n",
    "    print(\"a: \\n\", sess.run(a), \"\\n b \\n\",sess.run(b))\n",
    "    print(\"Added: \\n\",sess.run(added))\n",
    "    print(\"Add n #s \\n\",sess.run(addN))\n",
    "    print(\"Element-wise mul\\n\",sess.run(mul))\n",
    "    print(\"Matrix mul \\n\",sess.run(matmultiply))\n",
    "    print(\"Matrix div \\n\" ,sess.run(divide), \"\\n matrix modulus\\n\",sess.run(modulus))"
   ]
  },
  {
   "cell_type": "code",
   "execution_count": null,
   "metadata": {
    "collapsed": true
   },
   "outputs": [],
   "source": []
  }
 ],
 "metadata": {
  "kernelspec": {
   "display_name": "Python 3",
   "language": "python",
   "name": "python3"
  },
  "language_info": {
   "codemirror_mode": {
    "name": "ipython",
    "version": 3
   },
   "file_extension": ".py",
   "mimetype": "text/x-python",
   "name": "python",
   "nbconvert_exporter": "python",
   "pygments_lexer": "ipython3",
   "version": "3.6.1"
  }
 },
 "nbformat": 4,
 "nbformat_minor": 2
}
