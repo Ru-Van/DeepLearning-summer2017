{
 "cells": [
  {
   "cell_type": "markdown",
   "metadata": {},
   "source": [
    "# Collections of useful functions in Matlab and examples"
   ]
  },
  {
   "cell_type": "markdown",
   "metadata": {},
   "source": [
    "## Table of Contents:\n",
    "\n",
    "### 1. Random Number Generation:\n",
    "1. [rand()](#rand)<a href = \"#rand\"></a>: generate a uniformly distributed random numbers and arrays\n",
    "2. [randn()](#randn)<a href = '#randn'></a>: normally distributed random numbers between -1 and 1\n",
    "3. [randi()](#randi) <a href ='#randi'></a>: uniformly distributed psudorandom intergers.\n",
    "4. [ranperm()](#randperm)<a href = '#randperm'></a>: random permutation\n",
    "5. [rng()](#rng)<a href = '#rng'> </a> control random number generation, seeds, etc"
   ]
  },
  {
   "cell_type": "markdown",
   "metadata": {},
   "source": [
    "## <a id = 'rand'></a>\n",
    "### 1. rand():\n",
    "\n",
    "- uniformly distributed random numbers and arrays in the interval (0,1)\n",
    "\n",
    "- Syntax: \n",
    "    1. **Y = rand(n)**: returns n by n matrix of random entries, n should be a scalar\n",
    "    2. **Y = rand(m,n) / rand([m n]**: returns an m by n matrix \n",
    "    4. **Y = rand([m,n,p,...])**: generate random arrays\n",
    "    5. **Y = rand(size(A))**: returns an array of random entries that is the same size as A\n",
    "    7. **rand**: itself returns a scalr whose value changes each time it's referenced.\n"
   ]
  },
  {
   "cell_type": "code",
   "execution_count": 1,
   "metadata": {},
   "outputs": [
    {
     "name": "stdout",
     "output_type": "stream",
     "text": [
      "A =\n",
      "\n",
      "   0.579544   0.453638   0.330594   0.804737\n",
      "   0.626274   0.658964   0.012003   0.402634\n",
      "   0.816208   0.213784   0.265988   0.593765\n",
      "   0.813171   0.026285   0.128354   0.225973\n",
      "\n",
      "B =\n",
      "\n",
      "   0.389444   0.385581   0.161634\n",
      "   0.728400   0.062401   0.905769\n",
      "   0.179522   0.547929   0.227079\n",
      "   0.235057   0.425067   0.706111\n",
      "\n",
      "B =\n",
      "\n",
      "   0.81630\n",
      "   0.81536\n",
      "\n",
      "C =\n",
      "\n",
      "ans(:,:,1,1) =\n",
      "\n",
      "   0.031654   0.304416\n",
      "   0.438530   0.474040\n",
      "\n",
      "ans(:,:,2,1) =\n",
      "\n",
      "   0.67672   0.24013\n",
      "   0.95447   0.90248\n",
      "\n",
      "ans(:,:,3,1) =\n",
      "\n",
      "   0.331706   0.701612\n",
      "   0.683068   0.087323\n",
      "\n",
      "ans(:,:,1,2) =\n",
      "\n",
      "   0.4843457   0.6700625\n",
      "   0.3087891   0.0022506\n",
      "\n",
      "ans(:,:,2,2) =\n",
      "\n",
      "   0.48638   0.58016\n",
      "   0.36689   0.20234\n",
      "\n",
      "ans(:,:,3,2) =\n",
      "\n",
      "   0.42736   0.81185\n",
      "   0.43774   0.60312\n",
      "\n",
      "E =\n",
      "\n",
      "   0.3570720   0.4609491   0.3869266   0.6981776\n",
      "   0.0707852   0.3232966   0.7265037   0.3317264\n",
      "   0.5523656   0.9554141   0.1321028   0.1709790\n",
      "   0.7891570   0.0060255   0.4452407   0.5724259\n",
      "\n"
     ]
    }
   ],
   "source": [
    "A = rand(4)\n",
    "B = rand(4,3)\n",
    "B = rand([2 1]) % same as rand([2,1])\n",
    "C = rand([2,2,3,2])\n",
    "E = rand(size(magic(4)))"
   ]
  },
  {
   "cell_type": "markdown",
   "metadata": {},
   "source": [
    "<a id = 'randn'></a>\n",
    "### 2. randn()\n",
    "- create a normally distributed random numbers.  [difference between uniform and normal distribution](https://www.quora.com/What-is-the-difference-between-normal-distribution-and-uniform-distribution)\n",
    "- syntax:\n",
    "    1. **X = randn**: return a random scalar\n",
    "    2. **X = randn(n)**: n by n\n",
    "    3. **X = randn(m,n)**\n",
    "    4. **X = randn(size(X))**\n",
    "    5. **X = randn(m,n,typename):** typename can be 'single' or 'double'\n",
    "- ![Image of normal vs uniform distribution](normUniform.png)"
   ]
  },
  {
   "cell_type": "code",
   "execution_count": 2,
   "metadata": {},
   "outputs": [
    {
     "name": "stdout",
     "output_type": "stream",
     "text": [
      "X =\n",
      "\n",
      "  -1.49203  -0.96317\n",
      "   0.10622  -2.04846\n",
      "\n",
      "Y =  0.19630\n",
      "A =\n",
      "\n",
      "  -0.42777  -0.55866\n",
      "   1.01704  -0.13618\n",
      "\n",
      "B = -0.77032\n",
      "C =\n",
      "\n",
      "  -1.63121   0.47674\n",
      "  -0.37147   0.36826\n",
      "\n",
      "D =\n",
      "\n",
      "  -0.291448   0.992826  -1.873791\n",
      "  -0.041445   1.176795   0.085907\n",
      "\n"
     ]
    }
   ],
   "source": [
    "X = randn(2)\n",
    "Y = randn \n",
    "A = randn(2,2)\n",
    "B = randn(size(2))\n",
    "C = randn(2,'single')\n",
    "D = randn(2,3,'double')"
   ]
  },
  {
   "cell_type": "markdown",
   "metadata": {
    "collapsed": true
   },
   "source": [
    "<a id ='randi'></a>\n",
    "### 3. randi( )\n",
    "- create uniformly distributed psuedorandom integers.\n",
    "- Syntax:\n",
    "    1. **X = randi(imax):** one integer between 1 and imax\n",
    "    2. **X = randi(imax,n):**returns n by n integer matrix that is uniformly distributed on the interval [1,imax]\n",
    "    3. **X = randi(imax,row,column) ** same as above but the matrix could be triangular"
   ]
  },
  {
   "cell_type": "code",
   "execution_count": 9,
   "metadata": {},
   "outputs": [
    {
     "name": "stdout",
     "output_type": "stream",
     "text": [
      "X =  89\n",
      "Y =\n",
      "\n",
      "   24   90   21   19\n",
      "   78   91   78   45\n",
      "   31   31   63   72\n",
      "   10   18   67   32\n",
      "\n",
      "Z =\n",
      "\n",
      "   68   93   53    1\n",
      "   71   65   91   48\n",
      "   90   88   91   74\n",
      "\n"
     ]
    }
   ],
   "source": [
    "X =randi(100)\n",
    "Y = randi(100,4)\n",
    "Z = randi(100,3,4)"
   ]
  },
  {
   "cell_type": "markdown",
   "metadata": {},
   "source": [
    "<a id = 'randperm'></a>\n",
    "### 4. randperm( )\n",
    "- this create random permutation\n",
    "- syntax:\n",
    "    1. p = randperm(n): return a row vector containing a random permutation of the integers from 1 to n inclusive.\n",
    "    2. p = randperm(n,k): ... containing k unique integers selected randomly from 1 to n inclusive"
   ]
  },
  {
   "cell_type": "code",
   "execution_count": 19,
   "metadata": {},
   "outputs": [
    {
     "name": "stdout",
     "output_type": "stream",
     "text": [
      "a =\n",
      "\n",
      "   7   2   5   3   6   1   4\n",
      "\n",
      "b =\n",
      "\n",
      "    5   97   78\n",
      "\n"
     ]
    }
   ],
   "source": [
    "a = randperm(7)\n",
    "b = randperm(100,3) # randomly generate 3 unique integers selected from 1 to 100"
   ]
  },
  {
   "cell_type": "markdown",
   "metadata": {},
   "source": [
    "<a id = \"rng\"></a>\n",
    "### 5. rng( ) \n",
    "- control random number generation\n",
    "- syntax\n",
    "    1. **rng(seed)**\n",
    "    2. **rng('shuffle')**: seeds the random number generator based on the current time. \n",
    "    3. **rng(seed,'twister')**: [Mersenne Twister](https://en.wikipedia.org/wiki/Mersenne_Twister), is a pseudorandom number generator. The most commonly used version of the Mersenne Twister algorithm is based on the Mersenne prime 2^19937 -1.\n",
    "        - You could also used other random number generator for the second argument, for example: 'multFibonacci','v5uniform','v5normal'\n",
    "    4. **rng(s)**: restores the setting of the random number geenerator"
   ]
  },
  {
   "cell_type": "code",
   "execution_count": 21,
   "metadata": {},
   "outputs": [
    {
     "name": "stdout",
     "output_type": "stream",
     "text": [
      "a =\n",
      "\n",
      "   0.60585   0.61888   0.43564\n",
      "   0.70538   0.56264   0.56006\n",
      "   0.76862   0.68224   0.47914\n",
      "   0.64540   0.76917   0.94400\n",
      "   0.88004   0.35230   0.89532\n",
      "   0.69004   0.94939   0.29199\n",
      "   0.33063   0.70339   0.71392\n",
      "   0.29798   0.86943   0.97719\n",
      "   0.83957   0.58906   0.42001\n",
      "   0.11677   0.91983   0.94803\n",
      "\n"
     ]
    }
   ],
   "source": [
    "% rng(10) % rng is not yet implemented in Octave, but the same line could be used in MatLab\n",
    "a = rand(10,3)"
   ]
  },
  {
   "cell_type": "code",
   "execution_count": null,
   "metadata": {
    "collapsed": true
   },
   "outputs": [],
   "source": []
  }
 ],
 "metadata": {
  "kernelspec": {
   "display_name": "Octave",
   "language": "octave",
   "name": "octave"
  },
  "language_info": {
   "file_extension": ".m",
   "help_links": [
    {
     "text": "GNU Octave",
     "url": "https://www.gnu.org/software/octave/support.html"
    },
    {
     "text": "Octave Kernel",
     "url": "https://github.com/Calysto/octave_kernel"
    },
    {
     "text": "MetaKernel Magics",
     "url": "https://github.com/calysto/metakernel/blob/master/metakernel/magics/README.md"
    }
   ],
   "mimetype": "text/x-octave",
   "name": "octave",
   "version": "3.8.0"
  }
 },
 "nbformat": 4,
 "nbformat_minor": 2
}
