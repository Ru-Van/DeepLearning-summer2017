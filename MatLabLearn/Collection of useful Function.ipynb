{
 "cells": [
  {
   "cell_type": "markdown",
   "metadata": {},
   "source": [
    "# Collections of useful functions in Matlab and examples"
   ]
  },
  {
   "cell_type": "markdown",
   "metadata": {},
   "source": [
    "## Table of Contents:\n",
    "\n",
    "### 1. Random Number Generation:\n",
    "1. [rand()](#rand)<a href = \"#rand\"></a>: generate a uniformly distributed random numbers and arrays\n",
    "2. [randn()](#randn)<a href = '#randn'></a>: normally distributed random numbers between -1 and 1\n",
    "3. [randi()](#randi) <a href ='#randi'></a>: uniformly distributed psudorandom intergers.\n",
    "4. [ranperm()](#randperm)<a href = '#randperm'></a>: random permutation\n",
    "5. [rng()](#rng)<a href = '#rng'> </a> control random number generation, seeds, etc"
   ]
  },
  {
   "cell_type": "markdown",
   "metadata": {},
   "source": [
    "<a id = 'rand'></a>\n",
    "### 1. rand():\n",
    "\n",
    "- uniformly distributed random numbers and arrays in the interval (0,1)\n",
    "\n",
    "- Syntax: \n",
    "    1. **Y = rand(n)**: returns n by n matrix of random entries, n should be a scalar\n",
    "    2. **Y = rand(m,n) / rand([m n]**: returns an m by n matrix \n",
    "    4. **Y = rand([m,n,p,...])**: generate random arrays\n",
    "    5. **Y = rand(size(A))**: returns an array of random entries that is the same size as A\n",
    "    7. **rand**: itself returns a scalr whose value changes each time it's referenced.\n"
   ]
  },
  {
   "cell_type": "code",
   "execution_count": 8,
   "metadata": {},
   "outputs": [
    {
     "name": "stdout",
     "output_type": "stream",
     "text": [
      "A =\n",
      "\n",
      "   0.030069   0.703703   0.900805   0.405601\n",
      "   0.348989   0.855749   0.720519   0.374751\n",
      "   0.179242   0.146713   0.271779   0.178280\n",
      "   0.437028   0.168230   0.838109   0.335655\n",
      "\n",
      "B =\n",
      "\n",
      "   0.549892   0.169858   0.167669\n",
      "   0.823867   0.989106   0.320252\n",
      "   0.298352   0.038897   0.142452\n",
      "   0.114580   0.996904   0.118173\n",
      "\n",
      "B =\n",
      "\n",
      "   0.80627\n",
      "   0.51695\n",
      "\n",
      "C =\n",
      "\n",
      "ans(:,:,1,1) =\n",
      "\n",
      "   0.79539   0.60511\n",
      "   0.82222   0.83150\n",
      "\n",
      "ans(:,:,2,1) =\n",
      "\n",
      "   0.41173   0.68578\n",
      "   0.67321   0.43445\n",
      "\n",
      "ans(:,:,3,1) =\n",
      "\n",
      "   0.57239   0.22004\n",
      "   0.92283   0.67311\n",
      "\n",
      "ans(:,:,1,2) =\n",
      "\n",
      "   0.95486   0.79406\n",
      "   0.38195   0.32296\n",
      "\n",
      "ans(:,:,2,2) =\n",
      "\n",
      "   0.67958   0.21711\n",
      "   0.83368   0.37095\n",
      "\n",
      "ans(:,:,3,2) =\n",
      "\n",
      "   0.0074402   0.4461744\n",
      "   0.0961909   0.6131138\n",
      "\n",
      "E =\n",
      "\n",
      "   0.376559   0.848985   0.454800   0.467755\n",
      "   0.114001   0.278236   0.332419   0.636092\n",
      "   0.997978   0.339463   0.404162   0.381832\n",
      "   0.067686   0.397954   0.224456   0.926716\n",
      "\n"
     ]
    }
   ],
   "source": [
    "A = rand(4)\n",
    "B = rand(4,3)\n",
    "B = rand([2 1]) % same as rand([2,1])\n",
    "C = rand([2,2,3,2])\n",
    "E = rand(size(magic(4)))"
   ]
  },
  {
   "attachments": {},
   "cell_type": "markdown",
   "metadata": {},
   "source": [
    "<a id = 'randn'></a>\n",
    "### 2. randn()\n",
    "- create a normally distributed random numbers.  [difference between uniform and normal distribution](https://www.quora.com/What-is-the-difference-between-normal-distribution-and-uniform-distribution)\n",
    "- syntax:\n",
    "    1. **X = randn**: return a random scalar\n",
    "    2. **X = randn(n)**: n by n\n",
    "    3. **X = randn(m,n)**\n",
    "    4. **X = randn(size(X))**\n",
    "    5. **X = randn(m,n,typename):** typename can be 'single' or 'double'"
   ]
  },
  {
   "cell_type": "code",
   "execution_count": 9,
   "metadata": {},
   "outputs": [
    {
     "name": "stdout",
     "output_type": "stream",
     "text": [
      "X =\n",
      "\n",
      "  -0.78853  -2.12206\n",
      "   0.54751   0.51338\n",
      "\n",
      "Y =  1.0451\n",
      "A =\n",
      "\n",
      "  -1.35358  -0.23683\n",
      "   0.83149  -0.42772\n",
      "\n",
      "B = -1.0835\n",
      "C =\n",
      "\n",
      "  -0.17924  -0.34768\n",
      "  -2.04135   0.76059\n",
      "\n",
      "D =\n",
      "\n",
      "  -0.83642  -0.31411  -1.43398\n",
      "   0.15672   0.46144  -1.70270\n",
      "\n"
     ]
    }
   ],
   "source": [
    "X = randn(2)\n",
    "Y = randn \n",
    "A = randn(2,2)\n",
    "B = randn(size(2))\n",
    "C = randn(2,'single')\n",
    "D = randn(2,3,'double')"
   ]
  },
  {
   "cell_type": "code",
   "execution_count": null,
   "metadata": {
    "collapsed": true
   },
   "outputs": [],
   "source": []
  }
 ],
 "metadata": {
  "kernelspec": {
   "display_name": "Octave",
   "language": "octave",
   "name": "octave"
  },
  "language_info": {
   "file_extension": ".m",
   "help_links": [
    {
     "text": "GNU Octave",
     "url": "https://www.gnu.org/software/octave/support.html"
    },
    {
     "text": "Octave Kernel",
     "url": "https://github.com/Calysto/octave_kernel"
    },
    {
     "text": "MetaKernel Magics",
     "url": "https://github.com/calysto/metakernel/blob/master/metakernel/magics/README.md"
    }
   ],
   "mimetype": "text/x-octave",
   "name": "octave",
   "version": "4.0.0"
  }
 },
 "nbformat": 4,
 "nbformat_minor": 2
}
