{
 "cells": [
  {
   "cell_type": "markdown",
   "metadata": {},
   "source": [
    "# Matlab Data Structure\n",
    "\n",
    "1. Character Arrays\n",
    "2. Formatting Strings \n",
    "3. Cell Arrays\n",
    "4. String Matching\n",
    "5. Worked example of string processing\n",
    "6. Set operations\n",
    "7. Struct\n",
    "8. Struct arrays\n",
    "9. Containers.map"
   ]
  },
  {
   "cell_type": "markdown",
   "metadata": {},
   "source": [
    "## 1. Character arrays\n",
    "\n",
    "- Strings in Matlab are actually character matrices, but can be manipulated in very similar ways to numeric matrices"
   ]
  },
  {
   "cell_type": "code",
   "execution_count": 14,
   "metadata": {},
   "outputs": [
    {
     "name": "stdout",
     "output_type": "stream",
     "text": [
      "A = Hello World\n",
      "B = Hello\n",
      "C =\n",
      "\n",
      "Hello World\n",
      "Hello World\n",
      "\n",
      "D = zyxwvutsrqponmlkjihgfedcba\n",
      "check =  1\n",
      "E =\n",
      "\n",
      "aiden aiden aiden aiden aiden \n",
      "aiden aiden aiden aiden aiden \n",
      "\n",
      "F =\n",
      "\n",
      "   1   1   1   1   1   0   1   1   1   1\n",
      "\n",
      "G =\n",
      "\n",
      "   0   0   0   0   0   1   0   0   0   0\n",
      "\n",
      "H = HELLO WORLD\n",
      "I = hello world\n",
      "J =      Hello World      \n",
      "K = Hello World\n",
      "L =      Hello World\n",
      "M =\n",
      "\n",
      "     Hello World     Hello World\n",
      "     Hello World     Hello World\n",
      "\n",
      "N =\n",
      "\n",
      "Hello WorldHello World\n",
      "Hello WorldHello World\n",
      "\n"
     ]
    }
   ],
   "source": [
    "A = 'Hello World'\n",
    "B = A(1:5) # Access the first 5 characters\n",
    "C = [A; A]\n",
    "D = 'z':-1:'a' # create a matrix from z to a, decremented by 1\n",
    "check = ischar(A)\n",
    "E = repmat('aiden ',2,5) # replicate a string, two rows, 5 columns\n",
    "F = isletter(A(1:10)) # check which characters are letters\n",
    "G = isspace(A(1:10)) # check which characters are spaces\n",
    "H = upper(A) # convert htem all to upper case\n",
    "I = lower(A) % convert them all to lower case\n",
    "J = \"     Hello World      \"\n",
    "K = strtrim(J) # this will trim leading and trailing blank spaces\n",
    "L = deblank(J) # this will trim only the trailing blank spaces\n",
    "M = repmat(L,2,2)\n",
    "N = repmat(K,2,2)"
   ]
  },
  {
   "cell_type": "markdown",
   "metadata": {},
   "source": [
    "- ** isstrprop(string, 'punct')** can be used to check for punctuation, returns a logical array\n",
    "- ** isstrprop(string, 'alphanum') ** can be used to check for alpha numeric characters\n",
    "- ** isstrprop(string, 'digit')** decimal degits\n",
    "- ** isstrprop(string, 'xdigit')** check for valid hexadecimal digits"
   ]
  },
  {
   "cell_type": "code",
   "execution_count": 19,
   "metadata": {},
   "outputs": [
    {
     "name": "stdout",
     "output_type": "stream",
     "text": [
      "str =    a1!\n",
      "A =\n",
      "\n",
      "   0   0   0   0   0   1\n",
      "\n",
      "B =\n",
      "\n",
      "   0   0   0   1   1   0\n",
      "\n",
      "C =\n",
      "\n",
      "   0   0   0   0   1   0\n",
      "\n",
      "D =\n",
      "\n",
      "   1   1   1   1\n",
      "\n",
      "E =\n",
      "\n",
      "   1   1   1   0   0   0\n",
      "\n",
      "F =\n",
      "\n",
      "   0   0   0   1   0   0\n",
      "\n"
     ]
    }
   ],
   "source": [
    "str = '   a1!'\n",
    "A = isstrprop(str,'punct') % check for punctuation\n",
    "B = isstrprop(str,'alphanum')\n",
    "C = isstrprop(str,'digit')\n",
    "D = isstrprop('1F4A','xdigit')\n",
    "E = isspace(str)\n",
    "F = isletter(str)"
   ]
  },
  {
   "cell_type": "code",
   "execution_count": 21,
   "metadata": {},
   "outputs": [
    {
     "name": "stdout",
     "output_type": "stream",
     "text": [
      "A = A\n",
      "B =  66\n",
      "C =\n",
      "\n",
      "    97    98    99   100   101    71    51\n",
      "\n"
     ]
    }
   ],
   "source": [
    "% convert integers to the ASCII \n",
    "% from characters to ASCII, use char()\n",
    "% from ASCII to integer, use abs()\n",
    "A = char(65)\n",
    "B = abs('B')\n",
    "C = abs('abcdeG3')"
   ]
  },
  {
   "cell_type": "markdown",
   "metadata": {},
   "source": [
    "To convert from string representations of hexadecimal or binary numbers to decimal numbers and back using\n",
    "- dec2hex()\n",
    "- hex2dec()\n",
    "- dec2bin()\n",
    "- bin2dec()\n",
    "\n",
    "To generate string representations of numeric matrices, use:\n",
    "- num2str()\n",
    "- mat2str()\n",
    "- str2num()"
   ]
  },
  {
   "cell_type": "code",
   "execution_count": 25,
   "metadata": {},
   "outputs": [
    {
     "name": "stdout",
     "output_type": "stream",
     "text": [
      "A = D3\n",
      "B =  211\n",
      "C = 11010011\n",
      "D =  211\n"
     ]
    }
   ],
   "source": [
    "A = dec2hex(211)\n",
    "B = hex2dec('D3')\n",
    "C = dec2bin(211)\n",
    "D = bin2dec('11010011')"
   ]
  },
  {
   "cell_type": "code",
   "execution_count": 28,
   "metadata": {},
   "outputs": [
    {
     "name": "stdout",
     "output_type": "stream",
     "text": [
      "E =\n",
      "\n",
      "1  2  3  4  5\n",
      "1  2  3  4  5\n",
      "\n",
      "F = [1 2 3 4 5;1 2 3 4 5]\n",
      "c =  44\n"
     ]
    }
   ],
   "source": [
    "E = num2str([1:5;1:5])\n",
    "F = mat2str([1:5;1:5])\n",
    "c = str2num('44')"
   ]
  },
  {
   "cell_type": "code",
   "execution_count": 31,
   "metadata": {},
   "outputs": [
    {
     "name": "stdout",
     "output_type": "stream",
     "text": [
      "a =\n",
      "\n",
      "hello\n",
      "world\n",
      "this \n",
      "is   \n",
      "cs50 \n",
      "\n",
      "b =\n",
      "\n",
      "cs50 \n",
      "hello\n",
      "is   \n",
      "this \n",
      "world\n",
      "\n",
      "c =\n",
      "\n",
      "hello\n",
      "world\n",
      " this\n",
      "   is\n",
      " cs50\n",
      "\n"
     ]
    }
   ],
   "source": [
    "# concatenate vertically\n",
    "a = strvcat('hello','world','this', 'is','cs50')\n",
    "# sort an array\n",
    "b = sortrows(a)\n",
    "# justify the char array\n",
    "c = strjust(a)"
   ]
  },
  {
   "cell_type": "markdown",
   "metadata": {},
   "source": [
    "## 2. Formating strings\n",
    "\n",
    "- sprintf() -> this returns a string\n",
    "- fprintf() -> this directly display a string, or write it to a file, depending on the mode.\n",
    "- these two functions can be used to format strings for output.\n",
    "- we use % to denote that it is a place holder, %s: string, %05.2f denotes there will be 5 characters in total and 2 degits after the decimal, %x denotes hexadecimal, etc\n",
    "- to see the full list, use ** doc sprintf **"
   ]
  },
  {
   "cell_type": "code",
   "execution_count": 38,
   "metadata": {},
   "outputs": [
    {
     "name": "stdout",
     "output_type": "stream",
     "text": [
      "Elizabeth Holmes is the only women who won the Horatio Alger Award award when she was only 21 years old\n",
      "str = 03.1416\n",
      "str = 3e7\n",
      "Elizabeth Holmes is the only women who won the Horatio Alger Award award when she was only 21 years old\n"
     ]
    }
   ],
   "source": [
    "fprintf('%s is the only women who won the %s award when she was only %i years old', 'Elizabeth Holmes', 'Horatio Alger Award', 21);\n",
    "str = sprintf('%07.4f',pi) # this indicate that we want 7 characters in total, and 4 digits after the decimal point.\n",
    "str = sprintf('%x',999) # %x means it would display the number in hexadecimal."
   ]
  },
  {
   "cell_type": "markdown",
   "metadata": {},
   "source": [
    "## 3. Cell Arrays:\n",
    "- Matlab supports a very general but powerful data structure called the cell array. It can hold any type of Matlab object or structure including numeric matrices of different sizes, character arrays, other cells, as well as structs and objects.\n",
    "- Cell Arrays are typically used to store strings. It is similar to the dictionary / hashmap / hashtable\n",
    "- Cell arrays are enclosed by curly braces { } "
   ]
  },
  {
   "cell_type": "code",
   "execution_count": 39,
   "metadata": {},
   "outputs": [
    {
     "name": "stdout",
     "output_type": "stream",
     "text": [
      "A = \n",
      "{\n",
      "  [1,1] = [](0x0)\n",
      "  [2,1] = [](0x0)\n",
      "  [1,2] = [](0x0)\n",
      "  [2,2] = [](0x0)\n",
      "  [1,3] = [](0x0)\n",
      "  [2,3] = [](0x0)\n",
      "  [1,4] = [](0x0)\n",
      "  [2,4] = [](0x0)\n",
      "}\n",
      "check =  1\n"
     ]
    }
   ],
   "source": [
    "A = cell(2,4) # create a 2 by 4 cell array\n",
    "check = iscell (A)"
   ]
  },
  {
   "cell_type": "code",
   "execution_count": 42,
   "metadata": {},
   "outputs": [
    {
     "name": "stdout",
     "output_type": "stream",
     "text": [
      "B = \n",
      "{\n",
      "  [1,1] =\n",
      "\n",
      "     1   2   3\n",
      "\n",
      "  [2,1] =\n",
      "\n",
      "     3\n",
      "     5\n",
      "\n",
      "  [1,2] = hello\n",
      "  [2,2] = yes\n",
      "  [1,3] = \n",
      "  {\n",
      "    [1,1] =  1\n",
      "  }\n",
      "  [2,3] = \n",
      "  {\n",
      "    [1,1] = no\n",
      "  }\n",
      "}\n"
     ]
    }
   ],
   "source": [
    "B = { [1,2,3], 'hello', {1};  [3;5],'yes',{'no'}} % the 1 and 'no' are cell array inside a cell array"
   ]
  },
  {
   "cell_type": "code",
   "execution_count": 50,
   "metadata": {},
   "outputs": [
    {
     "name": "stdout",
     "output_type": "stream",
     "text": [
      "C = \n",
      "{\n",
      "  [1,1] = hello\n",
      "}\n",
      "ans =\n",
      "\n",
      "   1   1\n",
      "\n",
      "ans = cell\n",
      "D = hello\n",
      "E = \n",
      "{\n",
      "  [1,1] = no\n",
      "}\n",
      "F =\n",
      "\n",
      "   1   2   3\n",
      "\n",
      "ans = char\n",
      "ans = cell\n",
      "G = \n",
      "{\n",
      "  [1,1] =\n",
      "\n",
      "     1   2   3\n",
      "\n",
      "  [2,1] =\n",
      "\n",
      "     3\n",
      "     5\n",
      "\n",
      "}\n"
     ]
    }
   ],
   "source": [
    "C = B(1,2) # to get the element on the first row and second column\n",
    "size(C)\n",
    "class(C)\n",
    "D = B{1,2} # this returns the string itself\n",
    "E = B{2,3}\n",
    "F = B{1,1}\n",
    "class(D)\n",
    "class(E)\n",
    "G = B(:,1) # returns a cell array holding the first column "
   ]
  },
  {
   "cell_type": "code",
   "execution_count": null,
   "metadata": {
    "collapsed": true
   },
   "outputs": [],
   "source": []
  }
 ],
 "metadata": {
  "kernelspec": {
   "display_name": "Octave",
   "language": "octave",
   "name": "octave"
  },
  "language_info": {
   "file_extension": ".m",
   "help_links": [
    {
     "text": "GNU Octave",
     "url": "https://www.gnu.org/software/octave/support.html"
    },
    {
     "text": "Octave Kernel",
     "url": "https://github.com/Calysto/octave_kernel"
    },
    {
     "text": "MetaKernel Magics",
     "url": "https://github.com/calysto/metakernel/blob/master/metakernel/magics/README.md"
    }
   ],
   "mimetype": "text/x-octave",
   "name": "octave",
   "version": "4.0.0"
  }
 },
 "nbformat": 4,
 "nbformat_minor": 2
}
