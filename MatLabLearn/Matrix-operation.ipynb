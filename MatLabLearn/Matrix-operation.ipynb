{
 "cells": [
  {
   "cell_type": "markdown",
   "metadata": {},
   "source": [
    "# Matrix in MatLab\n",
    "\n",
    "- this document is entirely based on [Matt Dunham and Kevin Murphy's Tutorial](http://ubcmatlabguide.github.io/)"
   ]
  },
  {
   "cell_type": "markdown",
   "metadata": {},
   "source": [
    "### 1. Creating a matrix succinctly"
   ]
  },
  {
   "cell_type": "code",
   "execution_count": 170,
   "metadata": {},
   "outputs": [
    {
     "name": "stdout",
     "output_type": "stream",
     "text": [
      "A =\n",
      "\n",
      "    1    2    3    4    5    6    7    8    9   10\n",
      "\n",
      "B =\n",
      "\n",
      "    1    3    5    7    9\n",
      "\n",
      "C =\n",
      "\n",
      "   10    9    8    7    6    5    4    3\n",
      "\n"
     ]
    }
   ],
   "source": [
    "# Row matrices\n",
    "A = 1:10 # starts at 1 increment by 1, and stop at 10\n",
    "B = 1:2:10 # starts at 1, increment by 2, and stop at 10\n",
    "C = 10: -1:3 # starts at 10, decrement by 1, and stops at 3"
   ]
  },
  {
   "cell_type": "code",
   "execution_count": 171,
   "metadata": {},
   "outputs": [
    {
     "name": "stdout",
     "output_type": "stream",
     "text": [
      "D = [](0x0)\n",
      "double\n"
     ]
    }
   ],
   "source": [
    "# Create an empty matrix\n",
    "D = []\n",
    "disp(class(D))"
   ]
  },
  {
   "cell_type": "markdown",
   "metadata": {},
   "source": [
    "### Several useful functions that could be used to create a matrix\n",
    "Some basic function\n",
    "1. zeros(rows, columns)\n",
    "2. ones(rows, columns)\n",
    "3. rand(rows, columns)  -> this creates a matrix of uniform random numbers in [0,1]\n",
    "4. eye(dimension)  -> creates an identity matrix\n",
    "5. diag(1:4)  -> this creates a 4 by 4 diagonal matrix"
   ]
  },
  {
   "cell_type": "code",
   "execution_count": 172,
   "metadata": {},
   "outputs": [
    {
     "name": "stdout",
     "output_type": "stream",
     "text": [
      "A =\n",
      "\n",
      "   0   0   0\n",
      "   0   0   0\n",
      "   0   0   0\n",
      "   0   0   0\n",
      "\n",
      "b =\n",
      "\n",
      "   1   1   1   1\n",
      "   1   1   1   1\n",
      "   1   1   1   1\n",
      "\n",
      "c =\n",
      "\n",
      "   0.35229   0.70683\n",
      "   0.60578   0.75490\n",
      "\n",
      "d =\n",
      "\n",
      "Diagonal Matrix\n",
      "\n",
      "   1   0   0\n",
      "   0   1   0\n",
      "   0   0   1\n",
      "\n",
      "e =\n",
      "\n",
      "Diagonal Matrix\n",
      "\n",
      "   3   0   0\n",
      "   0   4   0\n",
      "   0   0   5\n",
      "\n",
      "e1 =\n",
      "\n",
      "Diagonal Matrix\n",
      "\n",
      "   3   0   0\n",
      "   0   4   0\n",
      "   0   0   5\n",
      "\n",
      "e2 =\n",
      "\n",
      "   0   0   0   3   0   0\n",
      "   0   0   0   0   4   0\n",
      "   0   0   0   0   0   5\n",
      "   0   0   0   0   0   0\n",
      "   0   0   0   0   0   0\n",
      "   0   0   0   0   0   0\n",
      "\n",
      "e3 =\n",
      "\n",
      "Diagonal Matrix\n",
      "\n",
      "   1   0   0   0\n",
      "   0   2   0   0\n",
      "   0   0   3   0\n",
      "   0   0   0   4\n",
      "\n"
     ]
    }
   ],
   "source": [
    "% zero matrix, one matrix,random, identity and diagonal matrix\n",
    "A = zeros(4,3)\n",
    "b = ones(3,4)\n",
    "c = rand(2,2)\n",
    "d = eye(3)\n",
    "e = diag([3,4,5]) # this returns a diagonal matrix with the row vector or column vector on the diagonal\n",
    "e1 = diag([3;4;5]) # column vector\n",
    "e2 = diag([3,4,5],3) # place the vectors on the kth diagonal.\n",
    "e3 = diag(1:4) #1:4 will create this vector [1 2 3 4]"
   ]
  },
  {
   "cell_type": "markdown",
   "metadata": {},
   "source": [
    "** [meshgrid()](https://www.mathworks.com/help/matlab/ref/meshgrid.html?s_tid=doc_ta) **"
   ]
  },
  {
   "cell_type": "code",
   "execution_count": 173,
   "metadata": {},
   "outputs": [
    {
     "name": "stdout",
     "output_type": "stream",
     "text": [
      "E =\n",
      "\n",
      "   1   2   3   4   5\n",
      "   1   2   3   4   5\n",
      "   1   2   3   4   5\n",
      "   1   2   3   4   5\n",
      "   1   2   3   4   5\n",
      "\n",
      "F =\n",
      "\n",
      "   1   1   1   1   1\n",
      "   2   2   2   2   2\n",
      "   3   3   3   3   3\n",
      "   4   4   4   4   4\n",
      "   5   5   5   5   5\n",
      "\n",
      "X =\n",
      "\n",
      "   1   2   3   4   5\n",
      "   1   2   3   4   5\n",
      "   1   2   3   4   5\n",
      "   1   2   3   4   5\n",
      "   1   2   3   4   5\n",
      "\n",
      "Y =\n",
      "\n",
      "    6    6    6    6    6\n",
      "    7    7    7    7    7\n",
      "    8    8    8    8    8\n",
      "    9    9    9    9    9\n",
      "   10   10   10   10   10\n",
      "\n"
     ]
    }
   ],
   "source": [
    "[E,F] = meshgrid([1 2 3 4 5]) % equivalent of saying meshgrid(1:5)\n",
    "[X,Y] = meshgrid(1:5,6:10) % X is a matrix where each row is a copy of x, and Y is a matrix where each column is a \n",
    "                           % of y"
   ]
  },
  {
   "cell_type": "markdown",
   "metadata": {},
   "source": [
    "** [logspace](https://www.mathworks.com/help/matlab/ref/logspace.html?s_tid=doc_ta) **: generate logarithically spaced vector\n",
    "1. logspace(a,b):generate a row vector of ** 50 log spaced points **between 10^a and 10^b\n",
    "2. logspace(a,b,n): genertes n points between 10^a and 10^b"
   ]
  },
  {
   "cell_type": "code",
   "execution_count": 174,
   "metadata": {},
   "outputs": [
    {
     "name": "stdout",
     "output_type": "stream",
     "text": [
      "I =\n",
      "\n",
      "     1.0000     2.5119     6.3096    15.8489    39.8107   100.0000\n",
      "\n",
      "I1 =\n",
      "\n",
      " Columns 1 through 6:\n",
      "\n",
      "      1.0000      1.1514      1.3257      1.5264      1.7575      2.0236\n",
      "\n",
      " Columns 7 through 12:\n",
      "\n",
      "      2.3300      2.6827      3.0888      3.5565      4.0949      4.7149\n",
      "\n",
      " Columns 13 through 18:\n",
      "\n",
      "      5.4287      6.2506      7.1969      8.2864      9.5410     10.9854\n",
      "\n",
      " Columns 19 through 24:\n",
      "\n",
      "     12.6486     14.5635     16.7683     19.3070     22.2300     25.5955\n",
      "\n",
      " Columns 25 through 30:\n",
      "\n",
      "     29.4705     33.9322     39.0694     44.9843     51.7947     59.6362\n",
      "\n",
      " Columns 31 through 36:\n",
      "\n",
      "     68.6649     79.0604     91.0298    104.8113    120.6793    138.9495\n",
      "\n",
      " Columns 37 through 42:\n",
      "\n",
      "    159.9859    184.2070    212.0951    244.2053    281.1769    323.7458\n",
      "\n",
      " Columns 43 through 48:\n",
      "\n",
      "    372.7594    429.1934    494.1713    568.9866    655.1286    754.3120\n",
      "\n",
      " Columns 49 and 50:\n",
      "\n",
      "    868.5114   1000.0000\n",
      "\n"
     ]
    }
   ],
   "source": [
    "\n",
    "I = logspace(0,2,6)\n",
    "I1 = logspace(0,3)"
   ]
  },
  {
   "cell_type": "markdown",
   "metadata": {},
   "source": [
    "** [blkdiag(a,b,c,d)](https://www.mathworks.com/help/matlab/ref/blkdiag.html?s_tid=doc_ta):** creates a **block diagonal matrix** from input arguments,!!"
   ]
  },
  {
   "cell_type": "code",
   "execution_count": 175,
   "metadata": {},
   "outputs": [
    {
     "name": "stdout",
     "output_type": "stream",
     "text": [
      "blockDiag =\n",
      "\n",
      "   1   0   0   0   0\n",
      "   0   2   0   0   0\n",
      "   0   0   3   0   0\n",
      "   0   0   0   6   0\n",
      "   0   0   0   0   1\n",
      "\n",
      "ans =\n",
      "\n",
      "Diagonal Matrix\n",
      "\n",
      "   1   0   0   0   0\n",
      "   0   2   0   0   0\n",
      "   0   0   3   0   0\n",
      "   0   0   0   6   0\n",
      "   0   0   0   0   1\n",
      "\n",
      "ans =\n",
      "\n",
      "   1   2   3   6   1\n",
      "\n",
      "a =\n",
      "\n",
      "   0.243429   0.325922\n",
      "   0.125524   0.088855\n",
      "\n",
      "b =\n",
      "\n",
      "   1   1\n",
      "   1   1\n",
      "   1   1\n",
      "\n",
      "ans =\n",
      "\n",
      "   0.24343   0.32592   0.00000   0.00000\n",
      "   0.12552   0.08886   0.00000   0.00000\n",
      "   0.00000   0.00000   1.00000   1.00000\n",
      "   0.00000   0.00000   1.00000   1.00000\n",
      "   0.00000   0.00000   1.00000   1.00000\n",
      "\n"
     ]
    }
   ],
   "source": [
    "%rng(1) % used to set the seed for random number, notice that Octave does not have this function implemented yet.\n",
    "blockDiag = blkdiag(1,2,3,6,1)\n",
    "diag([1 2 3 6 1])\n",
    "blkdiag([1 2 3 6 1]) % this will NOT WORK!\n",
    "a = rand(2,2)\n",
    "b = ones(3,2)\n",
    "blkdiag(a,b)"
   ]
  },
  {
   "cell_type": "markdown",
   "metadata": {},
   "source": [
    "**1. [tril](https://www.mathworks.com/help/matlab/ref/tril.html) ** : construct lower triangle part of a matrix\n",
    "\n",
    "**2. [triu](https://www.mathworks.com/help/matlab/ref/triu.html?s_tid=doc_ta) ** : construct upper triangle part of a matrix"
   ]
  },
  {
   "cell_type": "code",
   "execution_count": 176,
   "metadata": {},
   "outputs": [
    {
     "name": "stdout",
     "output_type": "stream",
     "text": [
      "a =\n",
      "\n",
      "   1   1   1   1\n",
      "   1   1   1   1\n",
      "   1   1   1   1\n",
      "\n",
      "X =\n",
      "\n",
      "   1   0   0   0\n",
      "   1   1   0   0\n",
      "   1   1   1   0\n",
      "\n",
      "X0 =\n",
      "\n",
      "   1   0   0   0\n",
      "   1   1   0   0\n",
      "   1   1   1   0\n",
      "\n",
      "X1 =\n",
      "\n",
      "   1   1   0   0\n",
      "   1   1   1   0\n",
      "   1   1   1   1\n",
      "\n",
      "X2a =\n",
      "\n",
      "   0   0   0   0\n",
      "   1   0   0   0\n",
      "   1   1   0   0\n",
      "\n",
      "X2b =\n",
      "\n",
      "   0   0   0   0\n",
      "   0   0   0   0\n",
      "   1   0   0   0\n",
      "\n",
      "Y =\n",
      "\n",
      "   1   1   1   1\n",
      "   0   1   1   1\n",
      "   0   0   1   1\n",
      "\n",
      "Y0 =\n",
      "\n",
      "   0   1   1   1\n",
      "   0   0   1   1\n",
      "   0   0   0   1\n",
      "\n",
      "Y1 =\n",
      "\n",
      "   1   1   1   1\n",
      "   1   1   1   1\n",
      "   0   1   1   1\n",
      "\n"
     ]
    }
   ],
   "source": [
    "a= ones(3,4)\n",
    "X = tril(a)\n",
    "X0 = tril(a,0) \n",
    "X1 = tril(a, 1) # the second argument k, when k > 0 : above the main diagonal,  k<0 below the main diagonal\n",
    "X2a = tril(a,-1)\n",
    "X2b = tril(a,-2) # the default k value is 0\n",
    "\n",
    "Y = triu(a)\n",
    "Y0 = triu(a,1)\n",
    "Y1 = triu(a,-1)"
   ]
  },
  {
   "cell_type": "markdown",
   "metadata": {},
   "source": [
    "the function ** true()** and **false()** just like zeros() and ones() but create ** logical arrays ** whose \n",
    "entries take only 1 byte each rather than 32\n",
    "\n",
    "use ** whos ** to check the variables you have currently\n"
   ]
  },
  {
   "cell_type": "code",
   "execution_count": 177,
   "metadata": {},
   "outputs": [
    {
     "name": "stdout",
     "output_type": "stream",
     "text": [
      "A =\n",
      "\n",
      "   0   0   0\n",
      "   0   0   0\n",
      "   0   0   0\n",
      "\n",
      "B =\n",
      "\n",
      "   0   0   0\n",
      "   0   0   0\n",
      "   0   0   0\n",
      "\n",
      "Variables in the current scope:\n",
      "\n",
      "   Attr Name        Size                     Bytes  Class\n",
      "   ==== ====        ====                     =====  ===== \n",
      "        A           3x3                          9  logical\n",
      "        B           3x3                         72  double\n",
      "\n",
      "Total is 18 elements using 81 bytes\n",
      "\n"
     ]
    }
   ],
   "source": [
    "clear all\n",
    "A = false(3,3)\n",
    "B = zeros(3,3)\n",
    "whos # whos can be used to check the variables you have currently"
   ]
  },
  {
   "cell_type": "markdown",
   "metadata": {},
   "source": [
    "   -**size(A)** to find the size of a matrix\n",
    "   \n",
    "   -**numel(A)**to find he number of elements in a matrix\n",
    "   \n",
    "   -**length(v)**usually used to find the number of elements in the column or row vector\n",
    "   "
   ]
  },
  {
   "cell_type": "code",
   "execution_count": 178,
   "metadata": {},
   "outputs": [
    {
     "name": "stdout",
     "output_type": "stream",
     "text": [
      "nrows =  3\n",
      "ncols =  3\n",
      "a =\n",
      "\n",
      "   3   3\n",
      "\n",
      "n =  9\n",
      "C =\n",
      "\n",
      "    1    2    3    4    5    6    7    8    9   10\n",
      "\n",
      "a2 =\n",
      "\n",
      "    1   10\n",
      "\n",
      "a3 =  10\n",
      "D =\n",
      "\n",
      "    1    2    3    4    5    6    7    8    9   10   11\n",
      "   11   12   13   14   15   16   17   18   19   20   21\n",
      "   21   22   23   24   25   26   27   28   29   30   31\n",
      "   31   32   33   34   35   36   37   38   39   40   41\n",
      "\n",
      "a4 =  11\n",
      "a5 =  4\n"
     ]
    }
   ],
   "source": [
    "[nrows,ncols] = size(A)\n",
    "a = size(A) # this returns a 1 by 2 vector\n",
    "n = numel(A)\n",
    "C = 1:10\n",
    "a2 = size(C)\n",
    "a3 = length(C)\n",
    "D = [1:11;11:21;21:31;31:41]\n",
    "a4 = size(D,2)#determine the size along the specific dimension. In this case, 1 for row, and 2 for columns\n",
    "a5 = size(D,1)"
   ]
  },
  {
   "cell_type": "markdown",
   "metadata": {},
   "source": [
    "**sum() ** can be used to sum up the matrix along a certain dimension\n",
    "\n",
    "**mean()** can be used to take the averge of entries along a certain dimension"
   ]
  },
  {
   "cell_type": "code",
   "execution_count": 179,
   "metadata": {},
   "outputs": [
    {
     "name": "stdout",
     "output_type": "stream",
     "text": [
      "A =\n",
      "\n",
      "   1   2   3   4\n",
      "   5   6   7   8\n",
      "\n",
      "C =\n",
      "\n",
      "    6    8   10   12\n",
      "\n",
      "C2 =\n",
      "\n",
      "   10\n",
      "   26\n",
      "\n",
      "M =\n",
      "\n",
      "   3   4   5   6\n",
      "\n",
      "M2 =\n",
      "\n",
      "   2.5000\n",
      "   6.5000\n",
      "\n"
     ]
    }
   ],
   "source": [
    "A = [1:4;5:8]\n",
    "C = sum(A,1) # 1 for row\n",
    "C2 = sum(A,2) # 2 for column\n",
    "M = mean(A,1)\n",
    "M2 = mean(A,2)"
   ]
  },
  {
   "cell_type": "markdown",
   "metadata": {},
   "source": [
    "The [ ] argument to the min and max functions indicate that you will specify a dimension"
   ]
  },
  {
   "cell_type": "code",
   "execution_count": 180,
   "metadata": {},
   "outputs": [
    {
     "name": "stdout",
     "output_type": "stream",
     "text": [
      "A =\n",
      "\n",
      "   1   2   3   4\n",
      "   5   6   7   8\n",
      "\n",
      "F1 =\n",
      "\n",
      "   4   4   4   4\n",
      "   5   6   7   8\n",
      "\n",
      "F1a =\n",
      "\n",
      "   1   2   3   4\n",
      "   5   5   5   5\n",
      "\n",
      "F2 =\n",
      "\n",
      "   4\n",
      "   8\n",
      "\n",
      "F3 =\n",
      "\n",
      "   5   6   7   8\n",
      "\n",
      "F4 =\n",
      "\n",
      "   1   2   3   4\n",
      "\n"
     ]
    }
   ],
   "source": [
    "A\n",
    "F1 = max(A,4) # find everything that is less than 4 and replace it with 4\n",
    "F1a = min(A,5) # find everything that is larger than 5 and replace it with 5\n",
    "F2 = max(A,[],2)\n",
    "F3= max(A,[],1)\n",
    "F4 = min(A,[],1)"
   ]
  },
  {
   "cell_type": "markdown",
   "metadata": {},
   "source": [
    "** Matrix Concatenation **\n",
    "Matrix can be concatenated by enclosing them inside of square brackets and using either a space or semicolon to specify the dimension. "
   ]
  },
  {
   "cell_type": "code",
   "execution_count": 181,
   "metadata": {},
   "outputs": [
    {
     "name": "stdout",
     "output_type": "stream",
     "text": [
      "A =\n",
      "\n",
      "    1    2    3    4    5\n",
      "    6    7    8    9   10\n",
      "\n",
      "B =\n",
      "\n",
      "    6    7    8    9   10\n",
      "   11   12   13   14   15\n",
      "\n",
      "AB =\n",
      "\n",
      "    1    2    3    4    5    6    7    8    9   10\n",
      "    6    7    8    9   10   11   12   13   14   15\n",
      "\n",
      "AB =\n",
      "\n",
      "    1    2    3    4    5\n",
      "    6    7    8    9   10\n",
      "    6    7    8    9   10\n",
      "   11   12   13   14   15\n",
      "\n",
      "C =\n",
      "\n",
      "   1   2   3   4   5\n",
      "\n",
      "D =\n",
      "\n",
      "   99    1    2    3    4    5   97\n",
      "\n",
      "D =\n",
      "\n",
      "   97    1    2    3    4    5   11   12   13   14   15   98\n",
      "\n"
     ]
    }
   ],
   "source": [
    "A = [1:5;6:10]\n",
    "B = [6:10;11:15]\n",
    "AB = [A B]  % this is the same as [A,B], this is a lying down matrix\n",
    "AB = [A;B] % with the semicolon, it is stacking up\n",
    "\n",
    "C = 1:5\n",
    "D = [99 C 97]\n",
    "D = [97 C 11:15 98]"
   ]
  },
  {
   "cell_type": "markdown",
   "metadata": {},
   "source": [
    "** Matrix Basic Indexing ** Individual entries can be extracted from a matrix by simply specifying the indices inside round brackets. We can also extract several entries at once by specifying a matrix, or matrices of indices or use the : operator to extract all entries along a certain dimension"
   ]
  },
  {
   "cell_type": "code",
   "execution_count": 182,
   "metadata": {},
   "outputs": [
    {
     "name": "stdout",
     "output_type": "stream",
     "text": [
      "A =\n",
      "\n",
      "    1    2    3    4    5\n",
      "    6    7    8    9   10\n",
      "\n",
      "B =  27\n",
      "C =\n",
      "\n",
      "   26\n",
      "   21\n",
      "   22\n",
      "\n",
      "D =\n",
      "\n",
      "    8    8   33\n",
      "\n",
      "E =\n",
      "\n",
      "   35   35    6\n",
      "    3    3    7\n",
      "   31   31    2\n",
      "\n",
      "F =\n",
      "\n",
      "   26\n",
      "   21\n",
      "   22\n",
      "   17\n",
      "   12\n",
      "   13\n",
      "\n",
      "G =\n",
      "\n",
      "    8   28   33   17   10   15\n",
      "\n",
      "b =\n",
      "\n",
      "   8   1   6\n",
      "   3   5   7\n",
      "   4   9   2\n",
      "\n",
      "H =\n",
      "\n",
      "   8\n",
      "   3\n",
      "   4\n",
      "   1\n",
      "   5\n",
      "   9\n",
      "   6\n",
      "   7\n",
      "   2\n",
      "\n",
      "I =  29\n",
      "J =  12\n",
      "K =\n",
      "\n",
      "   12   14   16\n",
      "   13   18   11\n",
      "\n",
      "L =\n",
      "\n",
      "   4   9   2\n",
      "   3   5   7\n",
      "   8   1   6\n",
      "\n",
      "M =\n",
      "\n",
      "   8\n",
      "   5\n",
      "   2\n",
      "\n",
      "N =\n",
      "\n",
      "   6\n",
      "   5\n",
      "   4\n",
      "\n",
      "P =  4\n",
      "A =\n",
      "\n",
      "   35    1    6   26   19   24\n",
      "    3   32    7   21   23   25\n",
      "   31    9    2   22   27   20\n",
      "    8   28   33   17   10   15\n",
      "   30    5   34   12   14   16\n",
      "    4   36   29   13   18   11\n",
      "\n",
      "P2 =\n",
      "\n",
      "   31\n",
      "   28\n",
      "   34\n",
      "   13\n",
      "\n",
      "P3 =\n",
      "\n",
      "    8\n",
      "    5\n",
      "   29\n",
      "\n",
      "P4 =\n",
      "\n",
      "    6\n",
      "   21\n",
      "   27\n",
      "   15\n",
      "\n"
     ]
    }
   ],
   "source": [
    "A\n",
    "A = magic(6);\n",
    "B = A(3,5) # row 3 column 5\n",
    "C = A([1,2,3],4) # row 1 column 4, row 2 column 4, and row 3 column 4\n",
    "D = A(4,[1,1,3])\n",
    "E = A([1,2,3],[1,1,3])\n",
    "F = A(:,4) # Everything on the fourth column\n",
    "G = A(4,:) # Everything on the 4th row\n",
    "b = magic(3)\n",
    "H = b(:) # this stack everything into a row vector\n",
    "I = A(end,3) # end stands for the last one, here it is the last row and 3rd column\n",
    "J = A(end -1, end- 2)\n",
    "K = A(5:end,4:end)\n",
    "L = b(end:-1:1,:) # this will extract everything with the order of the rows reversed\n",
    "M = diag(b)\n",
    "N = diag(rot90(b)) # extract the counter diagonal of b\n",
    "P = diag(b,-2) # this extract the diagonal entries two diagonals left and below the main\n",
    "A\n",
    "P2 = diag(A,-2)\n",
    "P3 = diag(A,-3)\n",
    "P4 = diag(A, 2)"
   ]
  },
  {
   "cell_type": "markdown",
   "metadata": {},
   "source": [
    "** Logical Indexing **"
   ]
  },
  {
   "cell_type": "code",
   "execution_count": 183,
   "metadata": {},
   "outputs": [
    {
     "name": "stdout",
     "output_type": "stream",
     "text": [
      "B =\n",
      "\n",
      "   1   0   0   0   0   0\n",
      "   0   1   0   0   0   0\n",
      "   1   0   0   0   0   0\n",
      "   0   0   1   0   0   0\n",
      "   0   0   1   0   0   0\n",
      "   0   1   0   0   0   0\n",
      "\n",
      "B2 =\n",
      "\n",
      "   0   1   1   0   0   0\n",
      "   1   0   1   0   0   0\n",
      "   0   1   1   0   0   0\n",
      "   1   0   0   0   1   0\n",
      "   0   1   0   0   0   0\n",
      "   1   0   0   0   0   0\n",
      "\n",
      "B3 =\n",
      "\n",
      "   1   1   1   1   1   1\n",
      "   1   1   1   1   1   1\n",
      "   1   1   1   1   1   0\n",
      "   1   1   1   1   1   1\n",
      "   1   1   1   1   1   1\n",
      "   1   1   1   1   1   1\n",
      "\n"
     ]
    }
   ],
   "source": [
    "B = A >30\n",
    "B2 = A <= 10\n",
    "B3 = A ~= 20"
   ]
  },
  {
   "cell_type": "code",
   "execution_count": 184,
   "metadata": {},
   "outputs": [
    {
     "name": "stdout",
     "output_type": "stream",
     "text": [
      "B =\n",
      "\n",
      "   35\n",
      "   31\n",
      "   32\n",
      "   36\n",
      "   33\n",
      "   34\n",
      "\n",
      "B1 =\n",
      "\n",
      "   31\n",
      "   29\n",
      "   23\n",
      "\n",
      "B2 =\n",
      "\n",
      "   31\n",
      "   29\n",
      "   23\n",
      "\n"
     ]
    }
   ],
   "source": [
    "B = A(A>30) % get all elements in A greater than 30\n",
    "B1 = A(isprime(A) & (A> 20)) # get all primes in A greater than 20\n",
    "#this is the same thing as using the find() function although the find() could be slower.\n",
    "B2 = A(find(A>20 & isprime(A)))"
   ]
  },
  {
   "cell_type": "code",
   "execution_count": 185,
   "metadata": {},
   "outputs": [
    {
     "name": "stdout",
     "output_type": "stream",
     "text": [
      "test =  1\n",
      "test2 =\n",
      "\n",
      "   1\n",
      "   1\n",
      "   1\n",
      "\n",
      "test2 =  1\n"
     ]
    }
   ],
   "source": [
    "# To check if two matrix is equal: It is better to use the isequal() function because it will handle the case when\n",
    "# the two matrix has different dimension.\n",
    "test = isequal(B1,B2)\n",
    "# using the == returns a matrix of logical values, not a single value.\n",
    "test2 = B1 == B2\n",
    "test2 = all(B1 == B2)"
   ]
  },
  {
   "cell_type": "markdown",
   "metadata": {},
   "source": [
    "** Assignment **\n",
    "   - Assignment operation, in which we change a value or values in a matrix, are perfromed in a very similar way to the indexing operations above. We indicate which entries will be changed by performing an indexing operation on the left hand side and then specify the new values on the right hand side. \n",
    "   - The right must be either a scalr value, or a matrix with the same dimension as the resulting indexed matrix on the left. Matlab automatically expands scalar values on the right to the correct size(Broadcasting)"
   ]
  },
  {
   "cell_type": "code",
   "execution_count": 186,
   "metadata": {},
   "outputs": [
    {
     "name": "stdout",
     "output_type": "stream",
     "text": [
      "A =\n",
      "\n",
      "    35     1     6    26    19    24\n",
      "     3    32     7    21    23    25\n",
      "    31   999     2    22    27    20\n",
      "     8    28    33    17    10    15\n",
      "    30     5    34    12    14    16\n",
      "     4    36    29    13    18    11\n",
      "\n",
      "A =\n",
      "\n",
      "   666     1     6   666    19    24\n",
      "   666    32     7   666    23    25\n",
      "   666   999     2   666    27    20\n",
      "   666    28    33   666    10    15\n",
      "   666     5    34   666    14    16\n",
      "   666    36    29   666    18    11\n",
      "\n",
      "A =\n",
      "\n",
      "     2     1     6   666    19    24\n",
      "     3    32     7   666    23    25\n",
      "     5   999     2   666    27    20\n",
      "     9    28    33   666    10    15\n",
      "     7     5    34   666    14    16\n",
      "     7    36    29   666    18    11\n",
      "\n",
      "A =\n",
      "\n",
      "     2     1     6   666    19    24\n",
      "     3    32     7   666    23    25\n",
      "     5   333     2   666    27    20\n",
      "     9    28    33   666    10    15\n",
      "     7     5    34   666    14    16\n",
      "     7    36    29   666    18    11\n",
      "\n",
      "A =\n",
      "\n",
      "    1    7   13   19   25   31\n",
      "    2    8   14   20   26   32\n",
      "    3    9   15   21   27   33\n",
      "    4   10   16   22   28   34\n",
      "    5   11   17   23   29   35\n",
      "    6   12   18   24   30   36\n",
      "\n"
     ]
    }
   ],
   "source": [
    "A(3,2) = 999 % assigns 999 to entry (3,2)\n",
    "A(:,1:3:end) = 666\n",
    "A(:,1) = [2;3;5;9;7;7]\n",
    "A (A == 999) = 333\n",
    "\n",
    "# we can assign everything at once by using the colon operator\n",
    "A(:) = 1:36"
   ]
  },
  {
   "cell_type": "markdown",
   "metadata": {},
   "source": [
    "** Deleting **\n",
    "   - assigning [ ] deletes the corresponding entries from the matrix.\n",
    "   - only deletions that result in a rectangular matrix are allowed"
   ]
  },
  {
   "cell_type": "code",
   "execution_count": 187,
   "metadata": {},
   "outputs": [
    {
     "name": "stdout",
     "output_type": "stream",
     "text": [
      "A =\n",
      "\n",
      "    1    7   13   19   25   31\n",
      "    2    8   14   20   26   32\n",
      "    3    9   15   21   27   33\n",
      "    4   10   16   22   28   34\n",
      "    5   11   17   23   29   35\n",
      "    6   12   18   24   30   36\n",
      "\n",
      "A =\n",
      "\n",
      "    2    8   14   20   26   32\n",
      "    4   10   16   22   28   34\n",
      "    5   11   17   23   29   35\n",
      "    6   12   18   24   30   36\n",
      "\n",
      "A =\n",
      "\n",
      "    2    8   14   20   26\n",
      "    4   10   16   22   28\n",
      "    5   11   17   23   29\n",
      "    6   12   18   24   30\n",
      "\n"
     ]
    }
   ],
   "source": [
    "A\n",
    "A([1,3],:) = []\n",
    "A(:,end) =[]"
   ]
  },
  {
   "cell_type": "markdown",
   "metadata": {},
   "source": [
    "** Expansion **\n",
    "- When the indices in an assignment exceed the  size of the matrix, rather than giving an error, quietly expands the matrix for you. If necessary, it pads the matrix with zeros. Using this feature is somewhat inefficient, however, as Matlab must reallocate a sufficiently large chunk of contiguous memory and copy the array.\n",
    "- It is much faster to preallocate the maximum desired size with the zeros command first, whenever the maximum size is known in advance."
   ]
  },
  {
   "cell_type": "code",
   "execution_count": 188,
   "metadata": {},
   "outputs": [
    {
     "name": "stdout",
     "output_type": "stream",
     "text": [
      "nrows =  4\n",
      "ncols =  5\n",
      "A =\n",
      "\n",
      "     2     8    14    20    26     0     0     0     0     0\n",
      "     4    10    16    22    28     0     0     0     0     0\n",
      "     5    11    17    23    29     0     0     0     0     0\n",
      "     6    12    18    24    30     0     0     0     0   222\n",
      "\n"
     ]
    }
   ],
   "source": [
    "% Not very efficient codes:\n",
    "[nrows, ncols] = size(A)\n",
    "A(4,10) = 222"
   ]
  },
  {
   "cell_type": "code",
   "execution_count": 195,
   "metadata": {},
   "outputs": [
    {
     "name": "stdout",
     "output_type": "stream",
     "text": [
      "B =\n",
      "\n",
      "   8   1   6\n",
      "   3   5   7\n",
      "   4   9   2\n",
      "\n",
      "C =\n",
      "\n",
      "   0   0   0   0   0   0\n",
      "   0   0   0   0   0   0\n",
      "   0   0   0   0   0   0\n",
      "   0   0   0   0   0   0\n",
      "\n",
      "B =\n",
      "\n",
      "    8    1    6    0    0    0\n",
      "    3    5    7    0    0    0\n",
      "    4    9    2    0    0    0\n",
      "    0    0    0    0    0   10\n",
      "\n"
     ]
    }
   ],
   "source": [
    "B = magic(3)\n",
    "C = zeros(4,6)\n",
    "B(4,6) = 10"
   ]
  },
  {
   "cell_type": "markdown",
   "metadata": {},
   "source": [
    "Linear Indexing:\n",
    "- when only one dimension is specified in an indexing or assignment operation, Matlab performs linear indexing from top to buttom and then left to right."
   ]
  },
  {
   "cell_type": "code",
   "execution_count": 199,
   "metadata": {},
   "outputs": [
    {
     "name": "stdout",
     "output_type": "stream",
     "text": [
      "A =\n",
      "\n",
      "   0   0   0   0   0\n",
      "   0   0   0   0   0\n",
      "   0   0   0   0   0\n",
      "\n",
      "A =\n",
      "\n",
      "     0    99   112     0     0\n",
      "     0     0     0     0     0\n",
      "     0   105     0     0     0\n",
      "\n"
     ]
    }
   ],
   "source": [
    "A = zeros(3,5)\n",
    "A(4) = 99;\n",
    "A(6) = 105;\n",
    "A(7) = 112"
   ]
  },
  {
   "cell_type": "markdown",
   "metadata": {},
   "source": [
    "## Reshaping and Replication\n",
    "- reshape a matrix from m*n to p*q, where m*n = p*q\n",
    "- reshape() function\n",
    "- the elements are placed in such a way so that as to preserve the order induced by linear indexing. \n",
    "- So A(11) will still equals to A(11), and so is everything else"
   ]
  },
  {
   "cell_type": "code",
   "execution_count": 206,
   "metadata": {},
   "outputs": [
    {
     "name": "stdout",
     "output_type": "stream",
     "text": [
      "A =\n",
      "\n",
      "   0   0   0   0   0   0\n",
      "   0   0   0   0   0   0\n",
      "   0   0   0   0   0   0\n",
      "   0   0   0   0   0   0\n",
      "   0   0   0   0   0   0\n",
      "\n",
      "A =\n",
      "\n",
      "    1    6   11   16   21   26\n",
      "    2    7   12   17   22   27\n",
      "    3    8   13   18   23   28\n",
      "    4    9   14   19   24   29\n",
      "    5   10   15   20   25   30\n",
      "\n",
      "V =\n",
      "\n",
      "    1   11   21\n",
      "    2   12   22\n",
      "    3   13   23\n",
      "    4   14   24\n",
      "    5   15   25\n",
      "    6   16   26\n",
      "    7   17   27\n",
      "    8   18   28\n",
      "    9   19   29\n",
      "   10   20   30\n",
      "\n",
      "check =  1\n",
      "check =  1\n"
     ]
    }
   ],
   "source": [
    "A = zeros(5,6)\n",
    "A(1:30) = 1:30\n",
    "V = reshape(A,10,3)\n",
    "check = A(11)== V(11)\n",
    "check = A(14) == V(14) % any arbitrary number between 1 and 30 would yield a one"
   ]
  },
  {
   "cell_type": "code",
   "execution_count": 209,
   "metadata": {},
   "outputs": [
    {
     "name": "stdout",
     "output_type": "stream",
     "text": [
      "A =\n",
      "\n",
      "   1   2\n",
      "   3   4\n",
      "\n",
      "B =\n",
      "\n",
      "   1   2   1   2   1   2\n",
      "   3   4   3   4   3   4\n",
      "   1   2   1   2   1   2\n",
      "   3   4   3   4   3   4\n",
      "\n"
     ]
    }
   ],
   "source": [
    "A = [1:2;3:4]\n",
    "B = repmat(A,2,3) % copy A vertically 2 times and horizontally 3 times"
   ]
  },
  {
   "cell_type": "markdown",
   "metadata": {},
   "source": [
    "## Elementwise matrix arithmetic\n",
    "\n",
    "- if one operand is a scalar value, an element-wise operation is automatically performed. \n",
    "- However, if both operands are matrices, a dot must precede the operator as in  .* .^ ./ and both matrices must be the same size"
   ]
  },
  {
   "cell_type": "code",
   "execution_count": 230,
   "metadata": {},
   "outputs": [
    {
     "name": "stdout",
     "output_type": "stream",
     "text": [
      "A =\n",
      "\n",
      "   1   2   3\n",
      "   4   5   6\n",
      "\n",
      "B =\n",
      "\n",
      "   2   3   4\n",
      "   5   6   7\n",
      "\n",
      "B2 =\n",
      "\n",
      "   1   2   1\n",
      "   1   4   4\n",
      "\n",
      "C =\n",
      "\n",
      "    3    6    9\n",
      "   12   15   18\n",
      "\n",
      "D =\n",
      "\n",
      "    1    4    9\n",
      "   16   25   36\n",
      "\n",
      "E =\n",
      "\n",
      "      2      9      4\n",
      "      5   1296   2401\n",
      "\n",
      "H =\n",
      "\n",
      "    2    6    4\n",
      "    5   24   28\n",
      "\n",
      "ans =\n",
      "\n",
      "   1   1   1\n",
      "   1   1   1\n",
      "\n"
     ]
    }
   ],
   "source": [
    "A = [1 2 3; 4 5 6]\n",
    "B = A + 1 % since 1 is a scalar, it performs element-wise addition.\n",
    "B2 = A - [0 0 2; 3 1 2] % subtraction and addition of matrices must have the same size\n",
    "C = A * 3\n",
    "D = A .^ 2\n",
    "E = B .^ B2 %Exponentiate every entry in B by the corresponding entry in B2\n",
    "H = B .* B2\n",
    "\n",
    "% although A ./ B == B.\\ A. the backslash is infrequently use, should avoid!\n",
    "B ./ B2 == B2 .\\ B "
   ]
  },
  {
   "cell_type": "markdown",
   "metadata": {},
   "source": [
    "## Some Linear Algebra operations"
   ]
  },
  {
   "cell_type": "code",
   "execution_count": 239,
   "metadata": {},
   "outputs": [
    {
     "name": "stdout",
     "output_type": "stream",
     "text": [
      "A =\n",
      "\n",
      "   17   24    1    8   15\n",
      "   23    5    7   14   16\n",
      "    4    6   13   20   22\n",
      "   10   12   19   21    3\n",
      "   11   18   25    2    9\n",
      "\n",
      "B =  5070000\n",
      "C =  5\n",
      "D =  65\n",
      "E =\n",
      "\n",
      "   4.4721e-01   5.4563e-01  -5.1167e-01  -1.9544e-01   4.4976e-01\n",
      "   4.4721e-01   4.4976e-01   1.9544e-01   5.1167e-01  -5.4563e-01\n",
      "   4.4721e-01   2.3423e-14   6.3246e-01  -6.3246e-01   1.0783e-17\n",
      "   4.4721e-01  -4.4976e-01   1.9544e-01   5.1167e-01   5.4563e-01\n",
      "   4.4721e-01  -5.4563e-01  -5.1167e-01  -1.9544e-01  -4.4976e-01\n",
      "\n",
      "F = [](5x0)\n",
      "U =\n",
      "\n",
      "  -4.4721e-01  -5.4563e-01   5.1167e-01   1.9544e-01  -4.4976e-01\n",
      "  -4.4721e-01  -4.4976e-01  -1.9544e-01  -5.1167e-01   5.4563e-01\n",
      "  -4.4721e-01  -2.3423e-14  -6.3246e-01   6.3246e-01  -1.0783e-17\n",
      "  -4.4721e-01   4.4976e-01  -1.9544e-01  -5.1167e-01  -5.4563e-01\n",
      "  -4.4721e-01   5.4563e-01   5.1167e-01   1.9544e-01   4.4976e-01\n",
      "\n",
      "S =\n",
      "\n",
      "Diagonal Matrix\n",
      "\n",
      "   65.000        0        0        0        0\n",
      "        0   22.547        0        0        0\n",
      "        0        0   21.687        0        0\n",
      "        0        0        0   13.404        0\n",
      "        0        0        0        0   11.901\n",
      "\n",
      "V =\n",
      "\n",
      "  -4.4721e-01  -4.0452e-01   2.4656e-01  -6.6273e-01   3.6928e-01\n",
      "  -4.4721e-01  -5.5662e-03   6.6273e-01   2.4656e-01  -5.4769e-01\n",
      "  -4.4721e-01   8.2017e-01  -3.1780e-14   2.3296e-16   3.5683e-01\n",
      "  -4.4721e-01  -5.5662e-03  -6.6273e-01  -2.4656e-01  -5.4769e-01\n",
      "  -4.4721e-01  -4.0452e-01  -2.4656e-01   6.6273e-01   3.6928e-01\n",
      "\n"
     ]
    }
   ],
   "source": [
    "A = magic(5)\n",
    "B = det(A) % measure the determinant of A\n",
    "C = rank(A) % the rank of A\n",
    "D = trace(A) % the trace of A or the sum of diagonal entries\n",
    "E = orth(A) % an orthonormal basis for range of A\n",
    "F = null(A) % an orthonormal basis for the nullspace of A\n",
    "[U,S,V] = svd(A) % singular value decomposition, U: orthogonal matrix, S: diagonal matrix, V is also an orthogonal matrix"
   ]
  },
  {
   "cell_type": "markdown",
   "metadata": {},
   "source": [
    "## Sparse Matrices:\n",
    "- when dealing with large matrices containing many zeros, you can save a great deal of space by using Matlab's ** sparse matrix construct. ** \n",
    "- Sparce Matrices can be used just like ordinary matrices but can be slower depending on the operation. \n",
    "- The function full() or sparse() convert back and forth. "
   ]
  },
  {
   "cell_type": "code",
   "execution_count": 246,
   "metadata": {},
   "outputs": [
    {
     "name": "stdout",
     "output_type": "stream",
     "text": [
      "n =  9\n",
      "nzeros =\n",
      "\n",
      "   1\n",
      "   2\n",
      "   3\n",
      "   4\n",
      "   5\n",
      "   6\n",
      "   7\n",
      "   8\n",
      "   9\n",
      "\n",
      "A =\n",
      "\n",
      "Compressed Column Sparse (rows = 100, cols = 100, nnz = 9 [0.09%])\n",
      "\n",
      "  (1, 7) ->  1\n",
      "  (4, 7) ->  2\n",
      "  (8, 7) ->  3\n",
      "  (1, 9) ->  4\n",
      "  (4, 9) ->  5\n",
      "  (8, 9) ->  6\n",
      "  (1, 33) ->  7\n",
      "  (4, 33) ->  8\n",
      "  (8, 33) ->  9\n",
      "\n",
      "check =  1\n"
     ]
    }
   ],
   "source": [
    "A = zeros(100,100);\n",
    "A([1 4 8], [7 9 33]) = reshape(1:9,3,3);\n",
    "n = nnz(A)  % the number of nonzero entries in A\n",
    "nzeros = nonzeros(A) % all of the nonzero entries in one big column vector\n",
    "A = sparse(A)\n",
    "check = issparse(A) % is it really a sparse data type?\n",
    "B = A * rand(100,1); % perform operations as you would with a nonsparse matrix\n",
    "C = full(A);"
   ]
  },
  {
   "cell_type": "code",
   "execution_count": null,
   "metadata": {
    "collapsed": true
   },
   "outputs": [],
   "source": []
  }
 ],
 "metadata": {
  "kernelspec": {
   "display_name": "Octave",
   "language": "octave",
   "name": "octave"
  },
  "language_info": {
   "file_extension": ".m",
   "help_links": [
    {
     "text": "GNU Octave",
     "url": "https://www.gnu.org/software/octave/support.html"
    },
    {
     "text": "Octave Kernel",
     "url": "https://github.com/Calysto/octave_kernel"
    },
    {
     "text": "MetaKernel Magics",
     "url": "https://github.com/calysto/metakernel/blob/master/metakernel/magics/README.md"
    }
   ],
   "mimetype": "text/x-octave",
   "name": "octave",
   "version": "4.0.0"
  }
 },
 "nbformat": 4,
 "nbformat_minor": 2
}
