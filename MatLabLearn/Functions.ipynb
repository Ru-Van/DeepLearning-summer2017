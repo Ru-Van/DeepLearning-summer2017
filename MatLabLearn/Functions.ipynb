{
 "cells": [
  {
   "cell_type": "markdown",
   "metadata": {},
   "source": [
    "# [Functions](http://ubcmatlabguide.github.io/html/writingFunctions.html)"
   ]
  },
  {
   "cell_type": "markdown",
   "metadata": {},
   "source": [
    "    function [output1, output2,output3] = functionName (input1,input2)"
   ]
  },
  {
   "cell_type": "code",
   "execution_count": 1,
   "metadata": {
    "collapsed": true
   },
   "outputs": [],
   "source": [
    "function[X1,X2] = quadform(A,B,C)\n",
    "% Implementation of the quadratic formula.\n",
    "% Here A,B and C can be matrices.\n",
    "    temp = sqrt(B .^2 - 4*A .* C);\n",
    "    X1 = (-B + temp) ./ (2 * A);\n",
    "    X2 = (-B - temp) ./ (2 * A);\n",
    "end"
   ]
  },
  {
   "cell_type": "markdown",
   "metadata": {},
   "source": [
    "** In Matlab, typically the name of the function should be the same as the name of the file. Also, you should create a new file that ends in name.m ** You could have multiple functions in one file, but only the function whose name corresponds to the filename is accessible from outside the file. Each function must end with the **end** keyword"
   ]
  },
  {
   "cell_type": "code",
   "execution_count": 2,
   "metadata": {},
   "outputs": [
    {
     "name": "stdout",
     "output_type": "stream",
     "text": [
      "X1 = -0.30958\n",
      "X2 = -9.6904\n"
     ]
    }
   ],
   "source": [
    "[X1,X2] = quadform(1,10,3)"
   ]
  },
  {
   "cell_type": "markdown",
   "metadata": {},
   "source": [
    "- In the Matlab editor, you could partition your code into editor cells by typing two percent signs, %%, at the beginning of the line. This can help organize your code into logical sections. You can also evaluate cells one at a time by selecting the *evaluate cell* button at the top of the editor. \n",
    "- At any time, you can execute any arbitrary block of code by highlighting it and press **F9**. Cells are also used when publishing your code. \n",
    "- Matlab uses** call-by-value semantics**, meanng that conceptually all arguments are copied into the formal parameters of the function. That ie, call-by-reference (pointers) is not used."
   ]
  },
  {
   "cell_type": "markdown",
   "metadata": {},
   "source": [
    "## Comments:\n",
    "- block comments uses **%{ Block Comments %}**\n",
    "- There is a convention that the first comment line after the function header will be searched by the *lookfor* command. (In the example above, you could search it with the *lookfor quadratic* command\n",
    "- And the first contiguous block of comments after the function header will be returned by the *help* and *doc* commands. ( *help quadform* will returned the two lines comments)"
   ]
  },
  {
   "cell_type": "markdown",
   "metadata": {},
   "source": [
    "## Nesting Functions\n",
    "- Nested functions operate much like the multiple-functions-per-file case above but are included before the final end statement of the main function.\n",
    "- The principal difference is that they share share their lexical scope with their parent so that variables created within the parent function are accessible in the nested function. \n",
    "- You can nest functions within functions, within functions as deep as you like.\n",
    "- Nested function would not be accessible outside of the top level function\n",
    "- Nested function could sometimes obfuscate the flow of control in your program, so do it with caution."
   ]
  },
  {
   "cell_type": "code",
   "execution_count": 3,
   "metadata": {},
   "outputs": [],
   "source": [
    "function C = myMainFunction(input1, input2)\n",
    "M = 22;\n",
    "K = innerFunction(3,2) + 1;\n",
    "C = K + 2 ;\n",
    "    function B = innerFunction(D,E)\n",
    "    Z = D + E - input1 - input2;\n",
    "    B = Z + M;\n",
    "    end\n",
    "end"
   ]
  },
  {
   "cell_type": "code",
   "execution_count": 4,
   "metadata": {},
   "outputs": [
    {
     "name": "stdout",
     "output_type": "stream",
     "text": [
      "D =  23\n",
      "error: strtrim: S argument must be a string or cellstring\n",
      "error: called from\n",
      "    strtrim at line 74 column 5\n",
      "    __print_parse_opts__ at line 81 column 9\n",
      "    print at line 291 column 8\n"
     ]
    }
   ],
   "source": [
    "D = myMainFunction(3,4)\n",
    "print(D)"
   ]
  },
  {
   "cell_type": "markdown",
   "metadata": {},
   "source": [
    "## Recursive Function\n",
    "\n",
    "- Recursive function, like many other programming language, is no faster than using a loop. And using a loop is quite slow, so we would be more often using vectorization.\n"
   ]
  },
  {
   "cell_type": "code",
   "execution_count": 5,
   "metadata": {
    "collapsed": true
   },
   "outputs": [],
   "source": [
    "function n = countNodes(tree)\n",
    "    if(isempty(tree))\n",
    "        n = 0;\n",
    "    else\n",
    "        n = countNodes(tree.left) + countNodes(tree.right) + 1\n",
    "    end\n",
    "end"
   ]
  },
  {
   "cell_type": "markdown",
   "metadata": {},
   "source": [
    "## Functions Handles and Anonymous Functions\n",
    "- we can pass functions as input to other functions in Matlab by first creating a handle to the function and then passing the handle as you would any other variable.\n",
    "- The most common example is when you need to optimize a function.\n"
   ]
  },
  {
   "cell_type": "code",
   "execution_count": null,
   "metadata": {},
   "outputs": [
    {
     "name": "stdout",
     "output_type": "stream",
     "text": [
      "^C\n"
     ]
    }
   ],
   "source": [
    "function[jVal, gradient] = costFunctions(theta){\n",
    "jVal = (theta(1) -5) ^2 + (theta(2)-5)^2\n",
    "gradient = zeros(2,1) % initialization\n",
    "gradient(1) = 2 * (theta(1) -5) % derivative\n",
    "gradient(2) = 2 * (theta(2) -5)\n",
    "}\n",
    "% optimization step\n",
    "options = optimset('GradObj','on','MaxIter','100');\n",
    "initialTheta = zeros(2,1)\n",
    "[optTheta,functionVal,exitFlag] = fminunc(@costFunctions,initialTheta, options)\n",
    "print(optTheta)"
   ]
  },
  {
   "cell_type": "code",
   "execution_count": null,
   "metadata": {
    "collapsed": true
   },
   "outputs": [],
   "source": []
  }
 ],
 "metadata": {
  "kernelspec": {
   "display_name": "Octave",
   "language": "octave",
   "name": "octave"
  },
  "language_info": {
   "file_extension": ".m",
   "help_links": [
    {
     "text": "GNU Octave",
     "url": "https://www.gnu.org/software/octave/support.html"
    },
    {
     "text": "Octave Kernel",
     "url": "https://github.com/Calysto/octave_kernel"
    },
    {
     "text": "MetaKernel Magics",
     "url": "https://github.com/calysto/metakernel/blob/master/metakernel/magics/README.md"
    }
   ],
   "mimetype": "text/x-octave",
   "name": "octave",
   "version": "4.0.0"
  }
 },
 "nbformat": 4,
 "nbformat_minor": 2
}
