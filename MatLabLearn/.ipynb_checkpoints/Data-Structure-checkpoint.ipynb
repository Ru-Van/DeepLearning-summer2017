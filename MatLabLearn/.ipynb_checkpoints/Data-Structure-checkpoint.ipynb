{
 "cells": [
  {
   "cell_type": "markdown",
   "metadata": {},
   "source": [
    "# Matlab Data Structure\n",
    "\n",
    "1. Character Arrays\n",
    "2. Formatting Strings \n",
    "3. Cell Arrays\n",
    "4. String Matching\n",
    "5. Worked example of string processing\n",
    "6. Set operations\n",
    "7. Struct\n",
    "8. Struct arrays\n",
    "9. Containers.map"
   ]
  },
  {
   "cell_type": "markdown",
   "metadata": {},
   "source": [
    "## 1. Character arrays\n",
    "\n",
    "- Strings in Matlab are actually character matrices, but can be manipulated in very similar ways to numeric matrices"
   ]
  },
  {
   "cell_type": "code",
   "execution_count": 14,
   "metadata": {},
   "outputs": [
    {
     "name": "stdout",
     "output_type": "stream",
     "text": [
      "A = Hello World\n",
      "B = Hello\n",
      "C =\n",
      "\n",
      "Hello World\n",
      "Hello World\n",
      "\n",
      "D = zyxwvutsrqponmlkjihgfedcba\n",
      "check =  1\n",
      "E =\n",
      "\n",
      "aiden aiden aiden aiden aiden \n",
      "aiden aiden aiden aiden aiden \n",
      "\n",
      "F =\n",
      "\n",
      "   1   1   1   1   1   0   1   1   1   1\n",
      "\n",
      "G =\n",
      "\n",
      "   0   0   0   0   0   1   0   0   0   0\n",
      "\n",
      "H = HELLO WORLD\n",
      "I = hello world\n",
      "J =      Hello World      \n",
      "K = Hello World\n",
      "L =      Hello World\n",
      "M =\n",
      "\n",
      "     Hello World     Hello World\n",
      "     Hello World     Hello World\n",
      "\n",
      "N =\n",
      "\n",
      "Hello WorldHello World\n",
      "Hello WorldHello World\n",
      "\n"
     ]
    }
   ],
   "source": [
    "A = 'Hello World'\n",
    "B = A(1:5) # Access the first 5 characters\n",
    "C = [A; A]\n",
    "D = 'z':-1:'a' # create a matrix from z to a, decremented by 1\n",
    "check = ischar(A)\n",
    "E = repmat('aiden ',2,5) # replicate a string, two rows, 5 columns\n",
    "F = isletter(A(1:10)) # check which characters are letters\n",
    "G = isspace(A(1:10)) # check which characters are spaces\n",
    "H = upper(A) # convert htem all to upper case\n",
    "I = lower(A) % convert them all to lower case\n",
    "J = \"     Hello World      \"\n",
    "K = strtrim(J) # this will trim leading and trailing blank spaces\n",
    "L = deblank(J) # this will trim only the trailing blank spaces\n",
    "M = repmat(L,2,2)\n",
    "N = repmat(K,2,2)"
   ]
  },
  {
   "cell_type": "markdown",
   "metadata": {},
   "source": [
    "- ** isstrprop(string, 'punct')** can be used to check for punctuation, returns a logical array\n",
    "- ** isstrprop(string, 'alphanum') ** can be used to check for alpha numeric characters\n",
    "- ** isstrprop(string, 'digit')** decimal degits\n",
    "- ** isstrprop(string, 'xdigit')** check for valid hexadecimal digits"
   ]
  },
  {
   "cell_type": "code",
   "execution_count": 19,
   "metadata": {},
   "outputs": [
    {
     "name": "stdout",
     "output_type": "stream",
     "text": [
      "str =    a1!\n",
      "A =\n",
      "\n",
      "   0   0   0   0   0   1\n",
      "\n",
      "B =\n",
      "\n",
      "   0   0   0   1   1   0\n",
      "\n",
      "C =\n",
      "\n",
      "   0   0   0   0   1   0\n",
      "\n",
      "D =\n",
      "\n",
      "   1   1   1   1\n",
      "\n",
      "E =\n",
      "\n",
      "   1   1   1   0   0   0\n",
      "\n",
      "F =\n",
      "\n",
      "   0   0   0   1   0   0\n",
      "\n"
     ]
    }
   ],
   "source": [
    "str = '   a1!'\n",
    "A = isstrprop(str,'punct') % check for punctuation\n",
    "B = isstrprop(str,'alphanum')\n",
    "C = isstrprop(str,'digit')\n",
    "D = isstrprop('1F4A','xdigit')\n",
    "E = isspace(str)\n",
    "F = isletter(str)"
   ]
  },
  {
   "cell_type": "code",
   "execution_count": 21,
   "metadata": {},
   "outputs": [
    {
     "name": "stdout",
     "output_type": "stream",
     "text": [
      "A = A\n",
      "B =  66\n",
      "C =\n",
      "\n",
      "    97    98    99   100   101    71    51\n",
      "\n"
     ]
    }
   ],
   "source": [
    "% convert integers to the ASCII \n",
    "% from characters to ASCII, use char()\n",
    "% from ASCII to integer, use abs()\n",
    "A = char(65)\n",
    "B = abs('B')\n",
    "C = abs('abcdeG3')"
   ]
  },
  {
   "cell_type": "markdown",
   "metadata": {},
   "source": [
    "To convert from string representations of hexadecimal or binary numbers to decimal numbers and back using\n",
    "- dec2hex()\n",
    "- hex2dec()\n",
    "- dec2bin()\n",
    "- bin2dec()\n",
    "\n",
    "To generate string representations of numeric matrices, use:\n",
    "- num2str()\n",
    "- mat2str()\n",
    "- str2num()"
   ]
  },
  {
   "cell_type": "code",
   "execution_count": 25,
   "metadata": {},
   "outputs": [
    {
     "name": "stdout",
     "output_type": "stream",
     "text": [
      "A = D3\n",
      "B =  211\n",
      "C = 11010011\n",
      "D =  211\n"
     ]
    }
   ],
   "source": [
    "A = dec2hex(211)\n",
    "B = hex2dec('D3')\n",
    "C = dec2bin(211)\n",
    "D = bin2dec('11010011')"
   ]
  },
  {
   "cell_type": "code",
   "execution_count": 28,
   "metadata": {},
   "outputs": [
    {
     "name": "stdout",
     "output_type": "stream",
     "text": [
      "E =\n",
      "\n",
      "1  2  3  4  5\n",
      "1  2  3  4  5\n",
      "\n",
      "F = [1 2 3 4 5;1 2 3 4 5]\n",
      "c =  44\n"
     ]
    }
   ],
   "source": [
    "E = num2str([1:5;1:5])\n",
    "F = mat2str([1:5;1:5])\n",
    "c = str2num('44')"
   ]
  },
  {
   "cell_type": "code",
   "execution_count": 31,
   "metadata": {},
   "outputs": [
    {
     "name": "stdout",
     "output_type": "stream",
     "text": [
      "a =\n",
      "\n",
      "hello\n",
      "world\n",
      "this \n",
      "is   \n",
      "cs50 \n",
      "\n",
      "b =\n",
      "\n",
      "cs50 \n",
      "hello\n",
      "is   \n",
      "this \n",
      "world\n",
      "\n",
      "c =\n",
      "\n",
      "hello\n",
      "world\n",
      " this\n",
      "   is\n",
      " cs50\n",
      "\n"
     ]
    }
   ],
   "source": [
    "# concatenate vertically\n",
    "a = strvcat('hello','world','this', 'is','cs50')\n",
    "# sort an array\n",
    "b = sortrows(a)\n",
    "# justify the char array\n",
    "c = strjust(a)"
   ]
  },
  {
   "cell_type": "markdown",
   "metadata": {},
   "source": [
    "## 2. Formating strings\n",
    "\n",
    "- sprintf() -> this returns a string\n",
    "- fprintf() -> this directly display a string, or write it to a file, depending on the mode.\n",
    "- these two functions can be used to format strings for output.\n",
    "- we use % to denote that it is a place holder, %s: string, %05.2f denotes there will be 5 characters in total and 2 degits after the decimal, %x denotes hexadecimal, etc\n",
    "- to see the full list, use ** doc sprintf **"
   ]
  },
  {
   "cell_type": "code",
   "execution_count": 38,
   "metadata": {},
   "outputs": [
    {
     "name": "stdout",
     "output_type": "stream",
     "text": [
      "Elizabeth Holmes is the only women who won the Horatio Alger Award award when she was only 21 years old\n",
      "str = 03.1416\n",
      "str = 3e7\n",
      "Elizabeth Holmes is the only women who won the Horatio Alger Award award when she was only 21 years old\n"
     ]
    }
   ],
   "source": [
    "fprintf('%s is the only women who won the %s award when she was only %i years old', 'Elizabeth Holmes', 'Horatio Alger Award', 21);\n",
    "str = sprintf('%07.4f',pi) # this indicate that we want 7 characters in total, and 4 digits after the decimal point.\n",
    "str = sprintf('%x',999) # %x means it would display the number in hexadecimal."
   ]
  },
  {
   "cell_type": "markdown",
   "metadata": {},
   "source": [
    "## 3. Cell Arrays:\n",
    "- Matlab supports a very general but powerful data structure called the cell array. It can hold any type of Matlab object or structure including numeric matrices of different sizes, character arrays, other cells, as well as structs and objects.\n",
    "- Cell arrays are enclosed by curly braces { } "
   ]
  },
  {
   "cell_type": "code",
   "execution_count": 39,
   "metadata": {},
   "outputs": [
    {
     "name": "stdout",
     "output_type": "stream",
     "text": [
      "A = \n",
      "{\n",
      "  [1,1] = [](0x0)\n",
      "  [2,1] = [](0x0)\n",
      "  [1,2] = [](0x0)\n",
      "  [2,2] = [](0x0)\n",
      "  [1,3] = [](0x0)\n",
      "  [2,3] = [](0x0)\n",
      "  [1,4] = [](0x0)\n",
      "  [2,4] = [](0x0)\n",
      "}\n",
      "check =  1\n"
     ]
    }
   ],
   "source": [
    "A = cell(2,4) # create a 2 by 4 cell array\n",
    "check = iscell (A)"
   ]
  },
  {
   "cell_type": "code",
   "execution_count": 42,
   "metadata": {},
   "outputs": [
    {
     "name": "stdout",
     "output_type": "stream",
     "text": [
      "B = \n",
      "{\n",
      "  [1,1] =\n",
      "\n",
      "     1   2   3\n",
      "\n",
      "  [2,1] =\n",
      "\n",
      "     3\n",
      "     5\n",
      "\n",
      "  [1,2] = hello\n",
      "  [2,2] = yes\n",
      "  [1,3] = \n",
      "  {\n",
      "    [1,1] =  1\n",
      "  }\n",
      "  [2,3] = \n",
      "  {\n",
      "    [1,1] = no\n",
      "  }\n",
      "}\n"
     ]
    }
   ],
   "source": [
    "B = { [1,2,3], 'hello', {1};  [3;5],'yes',{'no'}} % the 1 and 'no' are cell array inside a cell array"
   ]
  },
  {
   "cell_type": "code",
   "execution_count": 50,
   "metadata": {},
   "outputs": [
    {
     "name": "stdout",
     "output_type": "stream",
     "text": [
      "C = \n",
      "{\n",
      "  [1,1] = hello\n",
      "}\n",
      "ans =\n",
      "\n",
      "   1   1\n",
      "\n",
      "ans = cell\n",
      "D = hello\n",
      "E = \n",
      "{\n",
      "  [1,1] = no\n",
      "}\n",
      "F =\n",
      "\n",
      "   1   2   3\n",
      "\n",
      "ans = char\n",
      "ans = cell\n",
      "G = \n",
      "{\n",
      "  [1,1] =\n",
      "\n",
      "     1   2   3\n",
      "\n",
      "  [2,1] =\n",
      "\n",
      "     3\n",
      "     5\n",
      "\n",
      "}\n"
     ]
    }
   ],
   "source": [
    "C = B(1,2) # to get the element on the first row and second column\n",
    "size(C)\n",
    "class(C)\n",
    "D = B{1,2} # this returns the string itself\n",
    "E = B{2,3}\n",
    "F = B{1,1}\n",
    "class(D)\n",
    "class(E)\n",
    "G = B(:,1) # returns a cell array holding the first column "
   ]
  },
  {
   "cell_type": "markdown",
   "metadata": {
    "collapsed": true
   },
   "source": [
    "## 4. String Matching /Comparison\n",
    "\n",
    "1. **strcmp(A,B)** compare strings A and B\n",
    "2. **strcmpi(A,B)** compare String A and B and ignore cases.\n",
    "3. **strncmp(A,B,numChar)**: compare the first few chars of two string, specify by numChar\n",
    "4. **strncmpi(A,B,numChar) **: same as above but ignore cases"
   ]
  },
  {
   "cell_type": "code",
   "execution_count": 2,
   "metadata": {},
   "outputs": [
    {
     "name": "stdout",
     "output_type": "stream",
     "text": [
      "A = testString\n",
      "test1 =  1\n",
      "test2 =  1\n",
      "test3 = 0\n",
      "test4 =  1\n"
     ]
    }
   ],
   "source": [
    "A = 'testString'\n",
    "test1 = strcmp(A,'testString')\n",
    "test2 = strcmpi(A,'TESTSTRING') % compare two strings but ignore cases\n",
    "test3 = strncmp(A,'tesTString',4) \n",
    "test4 = strncmpi(A,'TesTString',6)"
   ]
  },
  {
   "cell_type": "code",
   "execution_count": 5,
   "metadata": {},
   "outputs": [
    {
     "name": "stdout",
     "output_type": "stream",
     "text": [
      "str = actiohanlfeaoilaactiohanlfeaoilaactiohanlfeaoilaactiohanlfeaoila\n",
      "A =\n",
      "\n",
      "    8   24   40   56\n",
      "\n"
     ]
    }
   ],
   "source": [
    "% use strfind() to find the occurance of one substring inside another \n",
    "str = 'actiohanlfeaoilaactiohanlfeaoilaactiohanlfeaoilaactiohanlfeaoila'\n",
    "A = strfind(str,'nlfe') # this 'nlfe' occurs 4 times in the string, so it would return a vector of all four of the occurance"
   ]
  },
  {
   "cell_type": "code",
   "execution_count": 9,
   "metadata": {},
   "outputs": [
    {
     "name": "stdout",
     "output_type": "stream",
     "text": [
      "str = \n",
      "{\n",
      "  [1,1] = foobar\n",
      "  [1,2] = bar\n",
      "  [1,3] = ffoo\n",
      "  [1,4] = barfo2o\n",
      "  [1,5] = foofoo\n",
      "}\n",
      "B =\n",
      "\n",
      "   1   5\n",
      "\n"
     ]
    }
   ],
   "source": [
    "str = {'foobar','bar','ffoo','barfo2o','foofoo'}\n",
    "B = strmatch('foo',str)"
   ]
  },
  {
   "cell_type": "code",
   "execution_count": 12,
   "metadata": {},
   "outputs": [
    {
     "name": "stdout",
     "output_type": "stream",
     "text": [
      "token = this\n",
      "remaining =  is a test\n",
      "token = is\n",
      "remaining =  a test\n"
     ]
    }
   ],
   "source": [
    "# strtok() can be used to grab the first token in a char array delimited by spaces\n",
    "[token,remaining] = strtok('this is a test')\n",
    "[token,remaining] = strtok(remaining)"
   ]
  },
  {
   "cell_type": "markdown",
   "metadata": {},
   "source": [
    "## 5. Set Operations\n",
    "Unlike Python, we could treat all matrices and cell arrays as sets and perform various set operations\n",
    "\n",
    "- union()\n",
    "- intersect()\n",
    "- setdiff()\n",
    "- setxor()\n",
    "- ismember()"
   ]
  },
  {
   "cell_type": "code",
   "execution_count": 18,
   "metadata": {},
   "outputs": [
    {
     "name": "stdout",
     "output_type": "stream",
     "text": [
      "set1 =\n",
      "\n",
      "   1   3   5   7   9\n",
      "\n",
      "set2 =\n",
      "\n",
      "   1   2   3   4\n",
      "\n",
      "inters =\n",
      "\n",
      "   1   3\n",
      "\n",
      "uni =\n",
      "\n",
      "   1   2   3   4   5   7   9\n",
      "\n",
      "dif =\n",
      "\n",
      "   5   7   9\n",
      "\n",
      "diff =\n",
      "\n",
      "   2   4\n",
      "\n",
      "xor =\n",
      "\n",
      "   2   4   5   7   9\n",
      "\n",
      "check = 0\n",
      "check =  1\n"
     ]
    }
   ],
   "source": [
    "set1 = 1:2:9\n",
    "set2 = 1:4\n",
    "inters = intersect(set1,set2)\n",
    "uni = union(set1, set2)\n",
    "dif = setdiff(set1, set2) # returns a sorted order of an array that has data in set1 but not in set2\n",
    "diff = setdiff(set2,set1)\n",
    "xor = setxor (set1, set2) # returns a sorted order of an array that is in set1 and set2 but not in both\n",
    "check = ismember(4,set1)\n",
    "check = ismember(4,set2)"
   ]
  },
  {
   "cell_type": "code",
   "execution_count": 20,
   "metadata": {},
   "outputs": [
    {
     "name": "stdout",
     "output_type": "stream",
     "text": [
      "uniqueNumbers =\n",
      "\n",
      "    1    2    3    4    5    6   12\n",
      "\n",
      "uniqueNames = \n",
      "{\n",
      "  [1,1] = Aiden\n",
      "  [1,2] = Bob\n",
      "  [1,3] = Cindy\n",
      "  [1,4] = David\n",
      "  [1,5] = cindy\n",
      "}\n"
     ]
    }
   ],
   "source": [
    "# we can extract the unique elements of a cell array or a matrix using the unique() function\n",
    "\n",
    "uniqueNumbers = unique([1,2,3,4,3,2,1,4,5,6,1,2,3,4,12,4,5]) # returns a sorted array\n",
    "uniqueNames = unique({'Aiden','Bob','Cindy','Bob','Aiden','David','cindy'})"
   ]
  },
  {
   "cell_type": "code",
   "execution_count": 24,
   "metadata": {
    "scrolled": true
   },
   "outputs": [
    {
     "name": "stdout",
     "output_type": "stream",
     "text": [
      "A =\n",
      "\n",
      "bba\n",
      "bab\n",
      "aba\n",
      "baa\n",
      "aab\n",
      "baa\n",
      "aab\n",
      "aba\n",
      "aba\n",
      "\n",
      "uniqueElems =\n",
      "\n",
      "aab\n",
      "aba\n",
      "baa\n",
      "bab\n",
      "bba\n",
      "\n",
      "firstIndices =\n",
      "\n",
      "   7\n",
      "   9\n",
      "   6\n",
      "   2\n",
      "   1\n",
      "\n",
      "perm =\n",
      "\n",
      "   5\n",
      "   4\n",
      "   2\n",
      "   3\n",
      "   1\n",
      "   3\n",
      "   1\n",
      "   2\n",
      "   2\n",
      "\n",
      "sorted =  1\n",
      "check =  1\n"
     ]
    }
   ],
   "source": [
    "A = ['bba';'bab';perms('aba');'aba'] % the perms() function generates every permutations\n",
    "[uniqueElems,firstIndices,perm] = unique (A,'rows')\n",
    "sorted = issorted(uniqueElems,'rows')\n",
    "check = isequal(A,uniqueElems(perm,:),A(firstIndices(perm),:))"
   ]
  },
  {
   "cell_type": "markdown",
   "metadata": {},
   "source": [
    "## 6. Structs: \n",
    "\n",
    "- struct allows you to organize data and access it by names. \n",
    "- **struct are basically hashmaps.**\n",
    "-  but depending on how they are used, they could also operate like a database\n",
    "- you can store structs in cell arrays and even within matrices so long as the fieldnames of the structs are the same"
   ]
  },
  {
   "cell_type": "code",
   "execution_count": 25,
   "metadata": {},
   "outputs": [
    {
     "name": "stdout",
     "output_type": "stream",
     "text": [
      "S =\n",
      "\n",
      "  scalar structure containing the fields:\n",
      "\n",
      "    name = aiden\n",
      "    age =  20\n",
      "    height =\n",
      "\n",
      "        1.0000    1.5000    2.0000\n",
      "\n",
      "\n",
      "check =  1\n",
      "names = \n",
      "{\n",
      "  [1,1] = name\n",
      "  [2,1] = age\n",
      "  [3,1] = height\n",
      "}\n",
      "check2 =  1\n",
      "S =\n",
      "\n",
      "  scalar structure containing the fields:\n",
      "\n",
      "    age =  20\n",
      "    height =\n",
      "\n",
      "        1.0000    1.5000    2.0000\n",
      "\n",
      "    name = aiden\n",
      "\n",
      "S =\n",
      "\n",
      "  scalar structure containing the fields:\n",
      "\n",
      "    age =  20\n",
      "    name = aiden\n",
      "\n"
     ]
    }
   ],
   "source": [
    "S = struct('name','aiden','age',20,'height',1:0.5:2)\n",
    "check = isstruct(S)\n",
    "names = fieldnames(S)\n",
    "check2 = isfield(S,'age')\n",
    "S = orderfields(S) # order the fields alphebetically\n",
    "S = rmfield(S, 'height') # remove a field"
   ]
  },
  {
   "cell_type": "code",
   "execution_count": 29,
   "metadata": {},
   "outputs": [
    {
     "name": "stdout",
     "output_type": "stream",
     "text": [
      "name = aiden\n",
      "age =  20\n",
      "error: structure has no member 'height'\n",
      "name = aiden\n",
      "age =  20\n"
     ]
    }
   ],
   "source": [
    "# use .operator and the name of the field, so like\n",
    "name = S.name\n",
    "age = S.age\n",
    "height = S.height\n",
    "\n",
    "#you could also access the field using a string\n",
    "name = S.('name')\n",
    "age = S.('age')"
   ]
  },
  {
   "cell_type": "code",
   "execution_count": 32,
   "metadata": {},
   "outputs": [
    {
     "name": "stdout",
     "output_type": "stream",
     "text": [
      "S =\n",
      "\n",
      "  scalar structure containing the fields:\n",
      "\n",
      "    age =  90\n",
      "    name = Bob\n",
      "\n",
      "S =\n",
      "\n",
      "  scalar structure containing the fields:\n",
      "\n",
      "    age =  90\n",
      "    name = Bob\n",
      "\n",
      "S =\n",
      "\n",
      "  scalar structure containing the fields:\n",
      "\n",
      "    age =  90\n",
      "    name = Bob\n",
      "    pupularity = tunnel\n",
      "\n",
      "S =\n",
      "\n",
      "  scalar structure containing the fields:\n",
      "\n",
      "    age =  90\n",
      "    name = Bob\n",
      "    pupularity = tunnel\n",
      "    gender =  1\n",
      "\n"
     ]
    }
   ],
   "source": [
    "# to set a new value for the field\n",
    "S.name = 'Bob'\n",
    "S.age = 90\n",
    "#and add a new field and data \n",
    "S.pupularity = 'tunnel'\n",
    "S.gender = 1"
   ]
  },
  {
   "cell_type": "markdown",
   "metadata": {},
   "source": [
    "** Notes: **\n",
    "\n",
    "- when the names for the fields are generated dynamically, i.e. at runtime, it is often prudent to ensure that the string is a valid fieldname. \n",
    "- Filednames must begin with a *letter and can contain only letters, numbers and the underscore symbol*\n",
    "- to check if the string is valid, use **isvarname()** and autogenerate a valid name from a source string with **genvarname()** command."
   ]
  },
  {
   "cell_type": "code",
   "execution_count": 35,
   "metadata": {},
   "outputs": [
    {
     "name": "stdout",
     "output_type": "stream",
     "text": [
      "test =  1\n",
      "test = 0\n",
      "better = x___\n"
     ]
    }
   ],
   "source": [
    "test = isvarname('aiden')\n",
    "test = isvarname('12a')\n",
    "better = genvarname('~?!')"
   ]
  },
  {
   "cell_type": "markdown",
   "metadata": {},
   "source": [
    "## 7. Struct arrays:\n",
    "\n",
    "- we can create an array of structs all having the same fieldname, which allows us to build a kind of database of entries."
   ]
  },
  {
   "cell_type": "code",
   "execution_count": 40,
   "metadata": {},
   "outputs": [
    {
     "name": "stdout",
     "output_type": "stream",
     "text": [
      "S =\n",
      "\n",
      "  0x0 struct array containing the fields:\n",
      "\n",
      "    name\n",
      "    id\n",
      "    email\n",
      "\n"
     ]
    }
   ],
   "source": [
    "S = struct('name',{},'id',{},'email',{})"
   ]
  },
  {
   "cell_type": "code",
   "execution_count": 49,
   "metadata": {},
   "outputs": [],
   "source": [
    "# how you add to the database\n",
    "S(1).name ='Aiden'; S(1).('id') =1122;S(1).email = 'aiden@example.com';\n",
    "S(2).name = 'Bob'; S(2).id =11444; S(2).email = 'bob@tunnel.com';\n",
    "S(3).name = 'Cindy'; S(3).id =420; S(3).email = 'cindy@cambridge.com';"
   ]
  },
  {
   "cell_type": "code",
   "execution_count": 50,
   "metadata": {},
   "outputs": [
    {
     "name": "stdout",
     "output_type": "stream",
     "text": [
      "AidenRecord =\n",
      "\n",
      "  scalar structure containing the fields:\n",
      "\n",
      "    name = Aiden\n",
      "    id =  1122\n",
      "    email = aiden@example.com\n",
      "\n",
      "BobRecord =\n",
      "\n",
      "  scalar structure containing the fields:\n",
      "\n",
      "    name = Bob\n",
      "    id =  11444\n",
      "    email = bob@tunnel.com\n",
      "\n"
     ]
    }
   ],
   "source": [
    "# how you access individual record, itself a struct\n",
    "AidenRecord = S(1)\n",
    "BobRecord = S(2)"
   ]
  },
  {
   "cell_type": "code",
   "execution_count": 51,
   "metadata": {},
   "outputs": [
    {
     "name": "stdout",
     "output_type": "stream",
     "text": [
      "one =  1122\n",
      "two =  11444\n",
      "three =  420\n",
      "name1 = Aiden\n",
      "name2 = Bob\n",
      "name3 = Cindy\n"
     ]
    }
   ],
   "source": [
    "# or access all at once \n",
    "[one,two,three] = S.id\n",
    "[name1,name2,name3] = S.name"
   ]
  },
  {
   "cell_type": "code",
   "execution_count": 56,
   "metadata": {},
   "outputs": [
    {
     "name": "stdout",
     "output_type": "stream",
     "text": [
      "A =\n",
      "\n",
      "    1122   11444     420\n",
      "\n",
      "B =\n",
      "\n",
      "    1122\n",
      "   11444\n",
      "     420\n",
      "\n"
     ]
    }
   ],
   "source": [
    " # you can concatnate the output from the above command\n",
    " A = [S.id]\n",
    " # sometimes you just want to concatnate them vertically, stacking the matrices so it's a standing up vector\n",
    " B = vertcat(S.id)"
   ]
  },
  {
   "cell_type": "markdown",
   "metadata": {},
   "source": [
    "**Notes**\n",
    "- we can create structs from cell arrays using the  **cell2struct()** function and vice versa using the **struct2cell()** function"
   ]
  },
  {
   "cell_type": "code",
   "execution_count": 59,
   "metadata": {},
   "outputs": [
    {
     "name": "stdout",
     "output_type": "stream",
     "text": [
      "data = \n",
      "{\n",
      "  [1,1] =  1\n",
      "  [1,2] =  2\n",
      "  [1,3] =  3\n",
      "  [1,4] =  4\n",
      "}\n",
      "fieldname = \n",
      "{\n",
      "  [1,1] = one\n",
      "  [1,2] = two\n",
      "  [1,3] = three\n",
      "  [1,4] = four\n",
      "}\n",
      "S =\n",
      "\n",
      "  scalar structure containing the fields:\n",
      "\n",
      "    one =  1\n",
      "    two =  2\n",
      "    three =  3\n",
      "    four =  4\n",
      "\n"
     ]
    }
   ],
   "source": [
    "data = {1,2,3,4}\n",
    "fieldname = {'one','two','three','four'}\n",
    "dim = 2;\n",
    "S = cell2struct (data,fieldname,dim)\n"
   ]
  },
  {
   "cell_type": "code",
   "execution_count": 60,
   "metadata": {},
   "outputs": [
    {
     "name": "stdout",
     "output_type": "stream",
     "text": [
      "error: 'containers' undefined near line 1 column 14\n"
     ]
    }
   ],
   "source": []
  },
  {
   "cell_type": "code",
   "execution_count": null,
   "metadata": {
    "collapsed": true
   },
   "outputs": [],
   "source": []
  }
 ],
 "metadata": {
  "kernelspec": {
   "display_name": "Octave",
   "language": "octave",
   "name": "octave"
  },
  "language_info": {
   "file_extension": ".m",
   "help_links": [
    {
     "text": "GNU Octave",
     "url": "https://www.gnu.org/software/octave/support.html"
    },
    {
     "text": "Octave Kernel",
     "url": "https://github.com/Calysto/octave_kernel"
    },
    {
     "text": "MetaKernel Magics",
     "url": "https://github.com/calysto/metakernel/blob/master/metakernel/magics/README.md"
    }
   ],
   "mimetype": "text/x-octave",
   "name": "octave",
   "version": "4.0.0"
  }
 },
 "nbformat": 4,
 "nbformat_minor": 2
}
