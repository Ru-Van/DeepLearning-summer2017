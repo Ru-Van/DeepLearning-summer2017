{
 "cells": [
  {
   "cell_type": "markdown",
   "metadata": {},
   "source": [
    "# Loop"
   ]
  },
  {
   "cell_type": "code",
   "execution_count": 2,
   "metadata": {},
   "outputs": [
    {
     "name": "stdout",
     "output_type": "stream",
     "text": [
      " 1\n",
      " 3\n",
      " 5\n",
      " 4\n",
      " 10\n",
      " 7\n"
     ]
    }
   ],
   "source": [
    "# for loop:\n",
    "for i = [1 3 5 4 10 7]\n",
    "    disp(i)\n",
    "end;"
   ]
  },
  {
   "cell_type": "markdown",
   "metadata": {},
   "source": [
    "** Mean Squared Error(MSE) **: In statistics, the MSE also known as the Average Squared Error, or mean squared deviation (MSD) measures the squares of the errors or deviations. MSE is a risk function, corresponding to the expected value of the squared error loss or quadratic loss.\n",
    "\n",
    "$${MSE}={\\frac  {1}{n}}\\sum _{{i=1}}^{n}({\\hat  {Y_{i}}}-Y_{i})^{2} $$"
   ]
  },
  {
   "cell_type": "code",
   "execution_count": 14,
   "metadata": {},
   "outputs": [
    {
     "name": "stdout",
     "output_type": "stream",
     "text": [
      "MSE =  0.92685\n"
     ]
    }
   ],
   "source": [
    "# calculating MSE using a forloop \n",
    "E = randn(1000,1); # create a 1000 * 1 vector of random number that is normally distributed\n",
    "SSE = 0; #initialization, initialize the sum of the squared error to be 0\n",
    "for i = 1:1000\n",
    "    SSE = SSE + E(i) * E(i); # calculate the sum of the squared error\n",
    "end\n",
    "MSE = SSE / 1000 #calculate the mean squared error"
   ]
  },
  {
   "cell_type": "code",
   "execution_count": 15,
   "metadata": {},
   "outputs": [
    {
     "name": "stdout",
     "output_type": "stream",
     "text": [
      "MSE =  0.92685\n",
      "Elapsed time is 0.0145478 seconds.\n"
     ]
    }
   ],
   "source": [
    "# In matlab, and possibly other programming lanuages, for loop is very inefficient, let's actually measure the time \n",
    "# of running this for loop\n",
    "tic\n",
    "SSE = 0; #initialization, initialize the sum of the squared error to be 0\n",
    "for i = 1:1000\n",
    "    SSE = SSE + E(i) * E(i); # calculate the sum of the squared error\n",
    "end\n",
    "MSE = SSE / 1000\n",
    "toc"
   ]
  },
  {
   "cell_type": "markdown",
   "metadata": {},
   "source": [
    "Let's look at the MSE and see if we can use the dot product / vectorization to solve this problem"
   ]
  },
  {
   "cell_type": "code",
   "execution_count": 16,
   "metadata": {},
   "outputs": [
    {
     "name": "stdout",
     "output_type": "stream",
     "text": [
      "MSE =  0.92685\n",
      "Elapsed time is 0.00592613 seconds.\n"
     ]
    }
   ],
   "source": [
    "tic\n",
    "MSE = E' * E / 1000\n",
    "toc"
   ]
  },
  {
   "cell_type": "markdown",
   "metadata": {},
   "source": [
    "**This is significantly faster than using a forloop, for loop elapsed time: 0.014s, compared to the dot-product of 0.005s.**"
   ]
  },
  {
   "cell_type": "markdown",
   "metadata": {},
   "source": [
    "## If-statement Demo\n",
    "\n",
    "** In matlab, we no longer use % to find remainder, instead we use mob(a,b) **"
   ]
  },
  {
   "cell_type": "code",
   "execution_count": 25,
   "metadata": {},
   "outputs": [
    {
     "name": "stdout",
     "output_type": "stream",
     "text": [
      "X =\n",
      "\n",
      "    1    2    3    4    5    6    7    8    9   10\n",
      "\n",
      "y =\n",
      "\n",
      "   0   0   0   0   0   0   0   0   0   0\n",
      "\n",
      "After the loop and if\n",
      "   0   1   0   1   0   1   0   1   0   1\n"
     ]
    }
   ],
   "source": [
    "X = 1:10\n",
    "y = zeros(1,10)\n",
    "for i = 1:10 # loop to keep track of even number\n",
    "    if mod(X(i),2) == 0 # \n",
    "        y(i) = 1;\n",
    "    else\n",
    "        y(i) = 0;\n",
    "    end\n",
    "end\n",
    "\n",
    "disp(\"After the loop and if\" )\n",
    "disp(y)"
   ]
  },
  {
   "cell_type": "code",
   "execution_count": 27,
   "metadata": {},
   "outputs": [
    {
     "name": "stdout",
     "output_type": "stream",
     "text": [
      " 18\n"
     ]
    }
   ],
   "source": [
    "# Find the sum of divisible by 3 numbers in x\n",
    "S = 0;\n",
    "for x = X # this is common use in matlab because x just go through everything in X\n",
    "    if mod(x,3) == 0\n",
    "        S = S + x;\n",
    "    end\n",
    "end\n",
    "disp(S)\n"
   ]
  },
  {
   "cell_type": "markdown",
   "metadata": {},
   "source": [
    "### while loop"
   ]
  },
  {
   "cell_type": "code",
   "execution_count": 32,
   "metadata": {},
   "outputs": [
    {
     "name": "stdout",
     "output_type": "stream",
     "text": [
      "X =\n",
      "\n",
      "    1    2    3    4    5    6    7    8    9   10\n",
      "\n",
      "I found it\n"
     ]
    }
   ],
   "source": [
    "# Again we have this row vector X and we are trying to see if 8 is in this matrix\n",
    "X = 1:10\n",
    "found = 0; # this means false\n",
    "i = 0; # use to increment the index\n",
    "while ~found  #in Matlab, we don't use the !, but instead use the ~ to denote 'not'\n",
    "    i = i + 1;\n",
    "    if X(i) == 8  #found it\n",
    "        disp(\"I found it\");\n",
    "        found = 1;\n",
    "    end\n",
    "end"
   ]
  },
  {
   "cell_type": "code",
   "execution_count": 36,
   "metadata": {},
   "outputs": [
    {
     "name": "stdout",
     "output_type": "stream",
     "text": [
      "i = 1\n",
      "i = 2\n",
      "i = 3\n",
      "i = 4\n",
      "i = 5\n",
      "i = 6\n",
      "i = 7\n",
      "i = 8\n",
      "I found it\n",
      "\n",
      "Without Break statement\n",
      "i = 1\n",
      "i = 2\n",
      "i = 3\n",
      "i = 4\n",
      "i = 5\n",
      "i = 6\n",
      "i = 7\n",
      "i = 8\n",
      "I found it\n",
      "i = 9\n",
      "i = 10\n"
     ]
    }
   ],
   "source": [
    "#You could also use a for loop, but it's more efficient for you to break after you found that number\n",
    "for i=1:10\n",
    "    fprintf('i = %d\\n',i);\n",
    "    if X(i)== 8\n",
    "    disp(\"I found it\")\n",
    "    break\n",
    "    end\n",
    "end\n",
    "\n",
    "#if you don't break, this is what will happen\n",
    "disp(\"\")\n",
    "disp(\"Without Break statement\")\n",
    "for i = 1:10\n",
    "    fprintf('i = %d\\n',i)\n",
    "    if X(i) == 8\n",
    "    disp(\"I found it\")\n",
    "    end\n",
    "end"
   ]
  },
  {
   "cell_type": "markdown",
   "metadata": {},
   "source": [
    "# Data Types"
   ]
  },
  {
   "cell_type": "code",
   "execution_count": 39,
   "metadata": {},
   "outputs": [
    {
     "name": "stdout",
     "output_type": "stream",
     "text": [
      "S =\n",
      "\n",
      "  scalar structure containing the fields:\n",
      "\n",
      "    name = bob\n",
      "    email = bob@example.com\n",
      "    contacts = 123-456-789\n",
      "\n"
     ]
    }
   ],
   "source": [
    "# Struct\n",
    "\n",
    "#this is similar to the dictionar / hashmap data type\n",
    "S = struct('name','bob','email','bob@example.com','contacts','123-456-789') "
   ]
  },
  {
   "cell_type": "code",
   "execution_count": 40,
   "metadata": {},
   "outputs": [
    {
     "name": "stdout",
     "output_type": "stream",
     "text": [
      "my_cell = \n",
      "{\n",
      "  [1,1] = hello world\n",
      "}\n"
     ]
    }
   ],
   "source": [
    "# Cell\n",
    "\n",
    "my_cell = {'hello world'}"
   ]
  },
  {
   "cell_type": "code",
   "execution_count": null,
   "metadata": {},
   "outputs": [],
   "source": []
  },
  {
   "cell_type": "code",
   "execution_count": null,
   "metadata": {
    "collapsed": true
   },
   "outputs": [],
   "source": []
  }
 ],
 "metadata": {
  "kernelspec": {
   "display_name": "Octave",
   "language": "octave",
   "name": "octave"
  },
  "language_info": {
   "file_extension": ".m",
   "help_links": [
    {
     "text": "GNU Octave",
     "url": "https://www.gnu.org/software/octave/support.html"
    },
    {
     "text": "Octave Kernel",
     "url": "https://github.com/Calysto/octave_kernel"
    },
    {
     "text": "MetaKernel Magics",
     "url": "https://github.com/calysto/metakernel/blob/master/metakernel/magics/README.md"
    }
   ],
   "mimetype": "text/x-octave",
   "name": "octave",
   "version": "4.0.0"
  }
 },
 "nbformat": 4,
 "nbformat_minor": 2
}
